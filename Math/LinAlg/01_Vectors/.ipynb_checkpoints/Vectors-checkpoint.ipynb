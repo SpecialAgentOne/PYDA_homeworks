{
 "cells": [
  {
   "cell_type": "markdown",
   "metadata": {},
   "source": [
    "# Домашнее задание \"Линейная алгебра. Векторы\"\n",
    "\n",
    "## Уровень 0:\n",
    "Даны вектора x=(1,1), y=(2, 0) и z = (0,2)\n",
    "\n",
    "Надо:\n",
    "1. Изобразить вектора на экране\n",
    "2. Изобразить точку x + y + z\n",
    "3. Найти угол между векторами x и y"
   ]
  },
  {
   "cell_type": "code",
   "execution_count": 1,
   "metadata": {},
   "outputs": [],
   "source": [
    "import numpy as np\n",
    "import pandas as pd\n",
    "import matplotlib.pyplot as plt"
   ]
  },
  {
   "cell_type": "code",
   "execution_count": 5,
   "metadata": {},
   "outputs": [
    {
     "data": {
      "image/png": "[encoded data removed]",
      "text/plain": [
       "<Figure size 432x288 with 1 Axes>"
      ]
     },
     "metadata": {
      "needs_background": "light"
     },
     "output_type": "display_data"
    }
   ],
   "source": [
    "r = plt.axes()\n",
    "\n",
    "plt.xlim( [-1, 3] )\n",
    "plt.ylim( [-1, 3] )\n",
    "\n",
    "x = (1,1)\n",
    "y = (2,0)\n",
    "z = (0,2)\n",
    "\n",
    "r.arrow( 0, 0, x [0], x [1], head_width=0.1, head_length=0.2)\n",
    "r.arrow( 0, 0, y [0], y [1], head_width=0.1, head_length=0.2)\n",
    "r.arrow( 0, 0, z [0], z [1], head_width=0.1, head_length=0.2)\n",
    "\n",
    "plt.show()"
   ]
  },
  {
   "cell_type": "code",
   "execution_count": 6,
   "metadata": {},
   "outputs": [
    {
     "data": {
      "image/png": "[encoded data removed]",
      "text/plain": [
       "<Figure size 432x288 with 1 Axes>"
      ]
     },
     "metadata": {
      "needs_background": "light"
     },
     "output_type": "display_data"
    }
   ],
   "source": [
    "i = x+y+z\n",
    "\n",
    "plt.plot(i[0], i[1], 'o')\n",
    "\n",
    "plt.show()"
   ]
  },
  {
   "cell_type": "code",
   "execution_count": 7,
   "metadata": {},
   "outputs": [
    {
     "data": {
      "text/plain": [
       "45.00000000000001"
      ]
     },
     "execution_count": 7,
     "metadata": {},
     "output_type": "execute_result"
    }
   ],
   "source": [
    "from numpy import linalg\n",
    "#Найти угол между векторами x и y\n",
    "def cosine(x, y):\n",
    "    \"\"\"\n",
    "    Подсчет  угла между векторами x,y по их координатам\n",
    "    \"\"\"\n",
    "    \n",
    "    # длины векторов\n",
    "    xLength = np.linalg.norm( x )\n",
    "    yLength = np.linalg.norm( y )\n",
    "\n",
    "    \n",
    "    return np.dot(x,y) / ( xLength * yLength)\n",
    "\n",
    "np.arccos(cosine(x,y)) * 360 / 2 / np.pi"
   ]
  },
  {
   "cell_type": "markdown",
   "metadata": {},
   "source": [
    "## Уровень 1:\n",
    "\n",
    "Даны дома из Бостона\n",
    "\n",
    "Выбрать любые n домов, образующих базис в пространстве признаков дома (все колонки, кроме medv)\n",
    "\n",
    "Написать код разложения дома по указанному базису"
   ]
  },
  {
   "cell_type": "code",
   "execution_count": 11,
   "metadata": {},
   "outputs": [
    {
     "data": {
      "text/plain": [
       "array([-2.40540988e+02, -4.24756840e+01,  5.52601250e+01, -7.46386703e+03,\n",
       "        6.43489086e+03,  2.66905163e+03, -7.82431102e+01,  1.22465925e+02,\n",
       "        4.23304479e+01,  2.16512933e+00, -3.15173612e+01, -4.99588727e+01,\n",
       "        2.72929243e+02])"
      ]
     },
     "execution_count": 11,
     "metadata": {},
     "output_type": "execute_result"
    }
   ],
   "source": [
    "import numpy as np\n",
    "import pandas as pd\n",
    "\n",
    "houses = pd.read_csv('boston_data.csv')\n",
    "del houses['medv']\n",
    "\n",
    "houses_basis = houses.sample(13)\n",
    "\n",
    "np.linalg.det(houses_basis)\n",
    "\n",
    "random_house_id = houses.sample(1).index[0]\n",
    "\n",
    "random_house = houses.iloc[random_house_id].values\n",
    "\n",
    "result = np.linalg.solve(houses_basis.values,random_house)\n",
    "result"
   ]
  }
 ],
 "metadata": {
  "kernelspec": {
   "display_name": "Python 3",
   "language": "python",
   "name": "python3"
  },
  "language_info": {
   "codemirror_mode": {
    "name": "ipython",
    "version": 3
   },
   "file_extension": ".py",
   "mimetype": "text/x-python",
   "name": "python",
   "nbconvert_exporter": "python",
   "pygments_lexer": "ipython3",
   "version": "3.7.6"
  }
 },
 "nbformat": 4,
 "nbformat_minor": 4
}

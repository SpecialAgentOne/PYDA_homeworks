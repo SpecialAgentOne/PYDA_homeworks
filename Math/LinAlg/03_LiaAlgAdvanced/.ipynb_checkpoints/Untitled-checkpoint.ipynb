{
 "cells": [
  {
   "cell_type": "markdown",
   "metadata": {},
   "source": [
    "# Домашнее задание \"Продвинутая линейная алгебра\""
   ]
  },
  {
   "cell_type": "markdown",
   "metadata": {},
   "source": [
    "## Уровень 0\n",
    "\n",
    "Придумайте матрицы, которые обладают следующими свойствами:\n",
    "a) диагональная, ортогональная, но не единичная(!):\n",
    "b) верхнетреугольная, ортогональная:\n",
    "c) нижнетреугольная, ортогональная:\n",
    "d) матрица, у которой определитель = 1, и все элементы не равны 0:\n",
    "P.S. Во всех пунктах ответом должна быть ненулевая матрица размерности не менее 2!\n",
    "\n",
    "Найдите собственные значения и собственные вектора матриц:\n",
    "m = np.array([[2, 2],\n",
    "[1, 3]])\n",
    "print(m)"
   ]
  },
  {
   "cell_type": "code",
   "execution_count": 25,
   "metadata": {},
   "outputs": [],
   "source": [
    "import numpy as np\n",
    "\n",
    "# Диагональная, ортогональная\n",
    "matrix = np.diag([1,-1,1])"
   ]
  },
  {
   "cell_type": "code",
   "execution_count": 26,
   "metadata": {},
   "outputs": [
    {
     "name": "stdout",
     "output_type": "stream",
     "text": [
      "[[ 1  0  0]\n",
      " [ 0 -1  0]\n",
      " [ 0  0  1]]\n"
     ]
    }
   ],
   "source": [
    "print(matrix)"
   ]
  },
  {
   "cell_type": "code",
   "execution_count": 27,
   "metadata": {},
   "outputs": [
    {
     "name": "stdout",
     "output_type": "stream",
     "text": [
      "[[1. 0. 0.]\n",
      " [0. 1. 0.]\n",
      " [0. 0. 1.]]\n"
     ]
    }
   ],
   "source": [
    "print(np.linalg.inv(matrix) @ matrix)"
   ]
  },
  {
   "cell_type": "code",
   "execution_count": 28,
   "metadata": {},
   "outputs": [
    {
     "name": "stdout",
     "output_type": "stream",
     "text": [
      "-1.0\n"
     ]
    }
   ],
   "source": [
    "print(np.linalg.det(matrix))"
   ]
  },
  {
   "cell_type": "code",
   "execution_count": 29,
   "metadata": {},
   "outputs": [],
   "source": [
    "# Верхнетреугольная матрица\n",
    "matrix_high = np.array([[1,1,1],[0,1,1],[0,0,1]])"
   ]
  },
  {
   "cell_type": "code",
   "execution_count": 30,
   "metadata": {},
   "outputs": [
    {
     "name": "stdout",
     "output_type": "stream",
     "text": [
      "[[1 1 1]\n",
      " [0 1 1]\n",
      " [0 0 1]]\n"
     ]
    }
   ],
   "source": [
    "print(matrix_high)"
   ]
  },
  {
   "cell_type": "code",
   "execution_count": 31,
   "metadata": {},
   "outputs": [
    {
     "name": "stdout",
     "output_type": "stream",
     "text": [
      "[[1. 0. 0.]\n",
      " [0. 1. 0.]\n",
      " [0. 0. 1.]]\n"
     ]
    }
   ],
   "source": [
    "print(np.linalg.inv(matrix_high) @ matrix_high)"
   ]
  },
  {
   "cell_type": "code",
   "execution_count": 32,
   "metadata": {},
   "outputs": [
    {
     "name": "stdout",
     "output_type": "stream",
     "text": [
      "1.0\n"
     ]
    }
   ],
   "source": [
    "print(np.linalg.det(matrix_high))"
   ]
  },
  {
   "cell_type": "code",
   "execution_count": 33,
   "metadata": {},
   "outputs": [],
   "source": [
    "# Нижнетреуголная матрица\n",
    "matrix_low = np.array([[1,0,0],[1,1,0],[1,1,1]])"
   ]
  },
  {
   "cell_type": "code",
   "execution_count": 34,
   "metadata": {},
   "outputs": [
    {
     "name": "stdout",
     "output_type": "stream",
     "text": [
      "[[1 0 0]\n",
      " [1 1 0]\n",
      " [1 1 1]]\n"
     ]
    }
   ],
   "source": [
    "print(matrix_low)"
   ]
  },
  {
   "cell_type": "code",
   "execution_count": 35,
   "metadata": {},
   "outputs": [
    {
     "name": "stdout",
     "output_type": "stream",
     "text": [
      "[[1. 0. 0.]\n",
      " [0. 1. 0.]\n",
      " [0. 0. 1.]]\n"
     ]
    }
   ],
   "source": [
    "print(np.linalg.inv(matrix_low) @ matrix_low)"
   ]
  },
  {
   "cell_type": "code",
   "execution_count": 36,
   "metadata": {},
   "outputs": [
    {
     "name": "stdout",
     "output_type": "stream",
     "text": [
      "1.0\n"
     ]
    }
   ],
   "source": [
    "print(np.linalg.det(matrix_low))"
   ]
  },
  {
   "cell_type": "code",
   "execution_count": 40,
   "metadata": {},
   "outputs": [
    {
     "name": "stdout",
     "output_type": "stream",
     "text": [
      "[[2 2]\n",
      " [1 3]]\n",
      "1.0\n",
      "[-0.89442719  0.4472136 ]\n",
      "4.0\n",
      "[-0.70710678 -0.70710678]\n"
     ]
    }
   ],
   "source": [
    "# Собственные вектора и матрицы\n",
    "# m = np.array([[2, 2], [1, 3]]) print(m)\n",
    "\n",
    "m = np.array([[2, 2], [1, 3]])\n",
    "print(m)\n",
    "\n",
    "a, b = np.linalg.eig(m)\n",
    "for i in range(len(a)):\n",
    "    print(str(a[i]))\n",
    "    print(str(b[:,i]))"
   ]
  },
  {
   "cell_type": "markdown",
   "metadata": {},
   "source": [
    "## Уровень 1:\n",
    "\n",
    "Найдите спектральное разложение матрицы:\n",
    "m = np.array([[1, 2],\n",
    "[2,3]])\n",
    "print(m)\n",
    "\n",
    "Постройте зависимость качества восстановления рукописных цифр (MNIST) в зависимости от различного количества компонент PCA. В качестве метрики различия предлагаю использовать MSE. *\n",
    "\n",
    "У PCA есть метод transform и inverse_transofrm. Первый - снижает размерность, второй - восстанавливает оригинальные данные с потерей информации\n",
    "Надо посчитать насколько в среднем точно восстанавливается оригинальная картинка в зависимости от количества компонент в PCA\n",
    "В качестве справки можно использовать:\n",
    "\n",
    "https://scikit-learn.org/stable/modules/generated/sklearn.decomposition.PCA.html - документация по PCA\n",
    "https://scikit-learn.org/stable/modules/generated/sklearn.metrics.mean_squared_error.html  - документация по MSE\n",
    "\t\n",
    "Картинки цифр можно взять отсюда - https://scikit-learn.org/stable/modules/generated/sklearn.datasets.load_digits.html"
   ]
  },
  {
   "cell_type": "code",
   "execution_count": 43,
   "metadata": {},
   "outputs": [
    {
     "name": "stdout",
     "output_type": "stream",
     "text": [
      "[[1 2]\n",
      " [2 3]]\n",
      "\n",
      "Eigenvalues:\n",
      "[-0.23606798  4.23606798]\n",
      "\n",
      "Eigenvectors:\n",
      "[[-0.85065081 -0.52573111]\n",
      " [ 0.52573111 -0.85065081]]\n"
     ]
    }
   ],
   "source": [
    "m = np.array([[1, 2], [2,3]])\n",
    "print(m)\n",
    "\n",
    "#спектральное разложение матрицы\n",
    "a, U = np.linalg.eig(m)\n",
    "print('\\nEigenvalues:')\n",
    "print(np.array(a, dtype=float))\n",
    "print('\\nEigenvectors:')\n",
    "print(U)"
   ]
  },
  {
   "cell_type": "code",
   "execution_count": 44,
   "metadata": {},
   "outputs": [
    {
     "name": "stdout",
     "output_type": "stream",
     "text": [
      "[[1. 2.]\n",
      " [2. 3.]]\n"
     ]
    }
   ],
   "source": [
    "print(np.array(U.dot(np.diag(a)).dot(U.T), dtype=float))"
   ]
  },
  {
   "cell_type": "code",
   "execution_count": 57,
   "metadata": {},
   "outputs": [
    {
     "name": "stdout",
     "output_type": "stream",
     "text": [
      "(1797, 64)\n"
     ]
    },
    {
     "data": {
      "text/plain": [
       "<Figure size 432x288 with 0 Axes>"
      ]
     },
     "metadata": {},
     "output_type": "display_data"
    },
    {
     "data": {
      "image/png": "[encoded data removed]",
      "text/plain": [
       "<Figure size 288x288 with 1 Axes>"
      ]
     },
     "metadata": {
      "needs_background": "light"
     },
     "output_type": "display_data"
    }
   ],
   "source": [
    ">>> from sklearn.datasets import load_digits\n",
    ">>> digits = load_digits()\n",
    ">>> print(digits.data.shape)\n",
    "(1797, 64)\n",
    "eight = digits.images[8]\n",
    ">>> import matplotlib.pyplot as plt \n",
    ">>> plt.gray() \n",
    ">>> plt.matshow(eight) \n",
    ">>> plt.show() "
   ]
  },
  {
   "cell_type": "code",
   "execution_count": 58,
   "metadata": {},
   "outputs": [
    {
     "data": {
      "text/plain": [
       "array([[ 0.,  0.,  9., 14.,  8.,  1.,  0.,  0.],\n",
       "       [ 0.,  0., 12., 14., 14., 12.,  0.,  0.],\n",
       "       [ 0.,  0.,  9., 10.,  0., 15.,  4.,  0.],\n",
       "       [ 0.,  0.,  3., 16., 12., 14.,  2.,  0.],\n",
       "       [ 0.,  0.,  4., 16., 16.,  2.,  0.,  0.],\n",
       "       [ 0.,  3., 16.,  8., 10., 13.,  2.,  0.],\n",
       "       [ 0.,  1., 15.,  1.,  3., 16.,  8.,  0.],\n",
       "       [ 0.,  0., 11., 16., 15., 11.,  1.,  0.]])"
      ]
     },
     "execution_count": 58,
     "metadata": {},
     "output_type": "execute_result"
    }
   ],
   "source": [
    "eight"
   ]
  },
  {
   "cell_type": "code",
   "execution_count": 47,
   "metadata": {},
   "outputs": [],
   "source": [
    "from sklearn.decomposition import PCA"
   ]
  },
  {
   "cell_type": "code",
   "execution_count": 59,
   "metadata": {},
   "outputs": [
    {
     "name": "stdout",
     "output_type": "stream",
     "text": [
      "try 1\n"
     ]
    },
    {
     "data": {
      "text/plain": [
       "<Figure size 432x288 with 0 Axes>"
      ]
     },
     "metadata": {},
     "output_type": "display_data"
    },
    {
     "data": {
      "image/png": "[encoded data removed]",
      "text/plain": [
       "<Figure size 288x1152 with 1 Axes>"
      ]
     },
     "metadata": {
      "needs_background": "light"
     },
     "output_type": "display_data"
    },
    {
     "name": "stdout",
     "output_type": "stream",
     "text": [
      "try 2\n"
     ]
    },
    {
     "data": {
      "text/plain": [
       "<Figure size 432x288 with 0 Axes>"
      ]
     },
     "metadata": {},
     "output_type": "display_data"
    },
    {
     "data": {
      "image/png": "[encoded data removed]",
      "text/plain": [
       "<Figure size 288x1152 with 1 Axes>"
      ]
     },
     "metadata": {
      "needs_background": "light"
     },
     "output_type": "display_data"
    },
    {
     "name": "stdout",
     "output_type": "stream",
     "text": [
      "try 3\n"
     ]
    },
    {
     "data": {
      "text/plain": [
       "<Figure size 432x288 with 0 Axes>"
      ]
     },
     "metadata": {},
     "output_type": "display_data"
    },
    {
     "data": {
      "image/png": "[encoded data removed]",
      "text/plain": [
       "<Figure size 288x768 with 1 Axes>"
      ]
     },
     "metadata": {
      "needs_background": "light"
     },
     "output_type": "display_data"
    },
    {
     "name": "stdout",
     "output_type": "stream",
     "text": [
      "try 4\n"
     ]
    },
    {
     "data": {
      "text/plain": [
       "<Figure size 432x288 with 0 Axes>"
      ]
     },
     "metadata": {},
     "output_type": "display_data"
    },
    {
     "data": {
      "image/png": "[encoded data removed]",
      "text/plain": [
       "<Figure size 288x576 with 1 Axes>"
      ]
     },
     "metadata": {
      "needs_background": "light"
     },
     "output_type": "display_data"
    },
    {
     "name": "stdout",
     "output_type": "stream",
     "text": [
      "try 5\n"
     ]
    },
    {
     "data": {
      "text/plain": [
       "<Figure size 432x288 with 0 Axes>"
      ]
     },
     "metadata": {},
     "output_type": "display_data"
    },
    {
     "data": {
      "image/png": "[encoded data removed]",
      "text/plain": [
       "<Figure size 288x460.8 with 1 Axes>"
      ]
     },
     "metadata": {
      "needs_background": "light"
     },
     "output_type": "display_data"
    },
    {
     "name": "stdout",
     "output_type": "stream",
     "text": [
      "try 6\n"
     ]
    },
    {
     "data": {
      "text/plain": [
       "<Figure size 432x288 with 0 Axes>"
      ]
     },
     "metadata": {},
     "output_type": "display_data"
    },
    {
     "data": {
      "image/png": "[encoded data removed]",
      "text/plain": [
       "<Figure size 288x384 with 1 Axes>"
      ]
     },
     "metadata": {
      "needs_background": "light"
     },
     "output_type": "display_data"
    },
    {
     "name": "stdout",
     "output_type": "stream",
     "text": [
      "try 7\n"
     ]
    },
    {
     "data": {
      "text/plain": [
       "<Figure size 432x288 with 0 Axes>"
      ]
     },
     "metadata": {},
     "output_type": "display_data"
    },
    {
     "data": {
      "image/png": "[encoded data removed]",
      "text/plain": [
       "<Figure size 288x329.143 with 1 Axes>"
      ]
     },
     "metadata": {
      "needs_background": "light"
     },
     "output_type": "display_data"
    },
    {
     "name": "stdout",
     "output_type": "stream",
     "text": [
      "try 8\n"
     ]
    },
    {
     "data": {
      "text/plain": [
       "<Figure size 432x288 with 0 Axes>"
      ]
     },
     "metadata": {},
     "output_type": "display_data"
    },
    {
     "data": {
      "image/png": "[encoded data removed]",
      "text/plain": [
       "<Figure size 288x288 with 1 Axes>"
      ]
     },
     "metadata": {
      "needs_background": "light"
     },
     "output_type": "display_data"
    }
   ],
   "source": [
    "a = []\n",
    "for i in range(1,9): \n",
    "    pca = PCA(n_components=i)\n",
    "    new = pca.fit_transform(eight)\n",
    "    a.append(new)\n",
    "    print('try', i)\n",
    "    plt.gray() \n",
    "    plt.matshow(new) \n",
    "    plt.show()\n",
    "    "
   ]
  },
  {
   "cell_type": "code",
   "execution_count": 60,
   "metadata": {},
   "outputs": [
    {
     "name": "stdout",
     "output_type": "stream",
     "text": [
      "[array([[ -5.73637732],\n",
      "       [ -2.50379775],\n",
      "       [  8.43522515],\n",
      "       [ -4.2115033 ],\n",
      "       [-12.26543834],\n",
      "       [  5.44390582],\n",
      "       [ 15.51091274],\n",
      "       [ -4.672927  ]]), array([[ -5.73637732,   7.62493653],\n",
      "       [ -2.50379775,  -4.72220722],\n",
      "       [  8.43522515,   3.78583112],\n",
      "       [ -4.2115033 ,  -2.74997623],\n",
      "       [-12.26543834,   2.70270786],\n",
      "       [  5.44390582,  -3.0483582 ],\n",
      "       [ 15.51091274,   1.05805156],\n",
      "       [ -4.672927  ,  -4.65098543]]), array([[ -5.73637732,   7.62493653,  -3.07904262],\n",
      "       [ -2.50379775,  -4.72220722,  -1.59319595],\n",
      "       [  8.43522515,   3.78583112,   5.61987324],\n",
      "       [ -4.2115033 ,  -2.74997623,   7.3743343 ],\n",
      "       [-12.26543834,   2.70270786,  -0.84687656],\n",
      "       [  5.44390582,  -3.0483582 ,  -4.80264552],\n",
      "       [ 15.51091274,   1.05805156,  -1.72067187],\n",
      "       [ -4.672927  ,  -4.65098543,  -0.95177503]]), array([[ -5.73637732,   7.62493653,  -3.07904262,  -1.6755873 ],\n",
      "       [ -2.50379775,  -4.72220722,  -1.59319595,  -1.47058725],\n",
      "       [  8.43522515,   3.78583112,   5.61987324,  -2.50630222],\n",
      "       [ -4.2115033 ,  -2.74997623,   7.3743343 ,   1.37293002],\n",
      "       [-12.26543834,   2.70270786,  -0.84687656,   3.01307852],\n",
      "       [  5.44390582,  -3.0483582 ,  -4.80264552,  -0.68334954],\n",
      "       [ 15.51091274,   1.05805156,  -1.72067187,   3.14200098],\n",
      "       [ -4.672927  ,  -4.65098543,  -0.95177503,  -1.19218321]]), array([[ -5.73637732,   7.62493653,  -3.07904262,  -1.6755873 ,\n",
      "         -0.14927548],\n",
      "       [ -2.50379775,  -4.72220722,  -1.59319595,  -1.47058725,\n",
      "         -0.37917476],\n",
      "       [  8.43522515,   3.78583112,   5.61987324,  -2.50630222,\n",
      "          0.08793912],\n",
      "       [ -4.2115033 ,  -2.74997623,   7.3743343 ,   1.37293002,\n",
      "          0.53504934],\n",
      "       [-12.26543834,   2.70270786,  -0.84687656,   3.01307852,\n",
      "          0.2400426 ],\n",
      "       [  5.44390582,  -3.0483582 ,  -4.80264552,  -0.68334954,\n",
      "          1.60939882],\n",
      "       [ 15.51091274,   1.05805156,  -1.72067187,   3.14200098,\n",
      "         -0.75284805],\n",
      "       [ -4.672927  ,  -4.65098543,  -0.95177503,  -1.19218321,\n",
      "         -1.19113159]]), array([[ -5.73637732,   7.62493653,  -3.07904262,  -1.6755873 ,\n",
      "         -0.14927548,  -0.05756507],\n",
      "       [ -2.50379775,  -4.72220722,  -1.59319595,  -1.47058725,\n",
      "         -0.37917476,   0.83454005],\n",
      "       [  8.43522515,   3.78583112,   5.61987324,  -2.50630222,\n",
      "          0.08793912,   0.0396857 ],\n",
      "       [ -4.2115033 ,  -2.74997623,   7.3743343 ,   1.37293002,\n",
      "          0.53504934,  -0.09069067],\n",
      "       [-12.26543834,   2.70270786,  -0.84687656,   3.01307852,\n",
      "          0.2400426 ,   0.10151374],\n",
      "       [  5.44390582,  -3.0483582 ,  -4.80264552,  -0.68334954,\n",
      "          1.60939882,  -0.24133294],\n",
      "       [ 15.51091274,   1.05805156,  -1.72067187,   3.14200098,\n",
      "         -0.75284805,   0.04273057],\n",
      "       [ -4.672927  ,  -4.65098543,  -0.95177503,  -1.19218321,\n",
      "         -1.19113159,  -0.62888138]]), array([[ -5.73637732,   7.62493653,  -3.07904262,  -1.6755873 ,\n",
      "         -0.14927548,  -0.05756507,   0.        ],\n",
      "       [ -2.50379775,  -4.72220722,  -1.59319595,  -1.47058725,\n",
      "         -0.37917476,   0.83454005,   0.        ],\n",
      "       [  8.43522515,   3.78583112,   5.61987324,  -2.50630222,\n",
      "          0.08793912,   0.0396857 ,   0.        ],\n",
      "       [ -4.2115033 ,  -2.74997623,   7.3743343 ,   1.37293002,\n",
      "          0.53504934,  -0.09069067,   0.        ],\n",
      "       [-12.26543834,   2.70270786,  -0.84687656,   3.01307852,\n",
      "          0.2400426 ,   0.10151374,   0.        ],\n",
      "       [  5.44390582,  -3.0483582 ,  -4.80264552,  -0.68334954,\n",
      "          1.60939882,  -0.24133294,   0.        ],\n",
      "       [ 15.51091274,   1.05805156,  -1.72067187,   3.14200098,\n",
      "         -0.75284805,   0.04273057,   0.        ],\n",
      "       [ -4.672927  ,  -4.65098543,  -0.95177503,  -1.19218321,\n",
      "         -1.19113159,  -0.62888138,   0.        ]]), array([[ -5.73637732,   7.62493653,  -3.07904262,  -1.6755873 ,\n",
      "         -0.14927548,  -0.05756507,   0.        ,   0.        ],\n",
      "       [ -2.50379775,  -4.72220722,  -1.59319595,  -1.47058725,\n",
      "         -0.37917476,   0.83454005,   0.        ,   0.        ],\n",
      "       [  8.43522515,   3.78583112,   5.61987324,  -2.50630222,\n",
      "          0.08793912,   0.0396857 ,   0.        ,  -0.        ],\n",
      "       [ -4.2115033 ,  -2.74997623,   7.3743343 ,   1.37293002,\n",
      "          0.53504934,  -0.09069067,   0.        ,   0.        ],\n",
      "       [-12.26543834,   2.70270786,  -0.84687656,   3.01307852,\n",
      "          0.2400426 ,   0.10151374,   0.        ,  -0.        ],\n",
      "       [  5.44390582,  -3.0483582 ,  -4.80264552,  -0.68334954,\n",
      "          1.60939882,  -0.24133294,   0.        ,   0.        ],\n",
      "       [ 15.51091274,   1.05805156,  -1.72067187,   3.14200098,\n",
      "         -0.75284805,   0.04273057,   0.        ,   0.        ],\n",
      "       [ -4.672927  ,  -4.65098543,  -0.95177503,  -1.19218321,\n",
      "         -1.19113159,  -0.62888138,   0.        ,   0.        ]])]\n"
     ]
    }
   ],
   "source": [
    "print(a)"
   ]
  },
  {
   "cell_type": "code",
   "execution_count": 61,
   "metadata": {},
   "outputs": [],
   "source": [
    "from sklearn.metrics import mean_squared_error"
   ]
  },
  {
   "cell_type": "code",
   "execution_count": 62,
   "metadata": {},
   "outputs": [
    {
     "data": {
      "text/plain": [
       "<Figure size 432x288 with 0 Axes>"
      ]
     },
     "metadata": {},
     "output_type": "display_data"
    },
    {
     "data": {
      "image/png": "[encoded data removed]",
      "text/plain": [
       "<Figure size 288x288 with 1 Axes>"
      ]
     },
     "metadata": {
      "needs_background": "light"
     },
     "output_type": "display_data"
    },
    {
     "data": {
      "text/plain": [
       "<Figure size 432x288 with 0 Axes>"
      ]
     },
     "metadata": {},
     "output_type": "display_data"
    },
    {
     "data": {
      "image/png": "[encoded data removed]",
      "text/plain": [
       "<Figure size 288x288 with 1 Axes>"
      ]
     },
     "metadata": {
      "needs_background": "light"
     },
     "output_type": "display_data"
    },
    {
     "data": {
      "text/plain": [
       "<Figure size 432x288 with 0 Axes>"
      ]
     },
     "metadata": {},
     "output_type": "display_data"
    },
    {
     "data": {
      "image/png": "[encoded data removed]",
      "text/plain": [
       "<Figure size 288x288 with 1 Axes>"
      ]
     },
     "metadata": {
      "needs_background": "light"
     },
     "output_type": "display_data"
    },
    {
     "data": {
      "text/plain": [
       "<Figure size 432x288 with 0 Axes>"
      ]
     },
     "metadata": {},
     "output_type": "display_data"
    },
    {
     "data": {
      "image/png": "[encoded data removed]",
      "text/plain": [
       "<Figure size 288x288 with 1 Axes>"
      ]
     },
     "metadata": {
      "needs_background": "light"
     },
     "output_type": "display_data"
    },
    {
     "data": {
      "text/plain": [
       "<Figure size 432x288 with 0 Axes>"
      ]
     },
     "metadata": {},
     "output_type": "display_data"
    },
    {
     "data": {
      "image/png": "[encoded data removed]",
      "text/plain": [
       "<Figure size 288x288 with 1 Axes>"
      ]
     },
     "metadata": {
      "needs_background": "light"
     },
     "output_type": "display_data"
    },
    {
     "data": {
      "text/plain": [
       "<Figure size 432x288 with 0 Axes>"
      ]
     },
     "metadata": {},
     "output_type": "display_data"
    },
    {
     "data": {
      "image/png": "[encoded data removed]",
      "text/plain": [
       "<Figure size 288x288 with 1 Axes>"
      ]
     },
     "metadata": {
      "needs_background": "light"
     },
     "output_type": "display_data"
    },
    {
     "data": {
      "text/plain": [
       "<Figure size 432x288 with 0 Axes>"
      ]
     },
     "metadata": {},
     "output_type": "display_data"
    },
    {
     "data": {
      "image/png": "[encoded data removed]",
      "text/plain": [
       "<Figure size 288x288 with 1 Axes>"
      ]
     },
     "metadata": {
      "needs_background": "light"
     },
     "output_type": "display_data"
    },
    {
     "data": {
      "text/plain": [
       "<Figure size 432x288 with 0 Axes>"
      ]
     },
     "metadata": {},
     "output_type": "display_data"
    },
    {
     "data": {
      "image/png": "[encoded data removed]",
      "text/plain": [
       "<Figure size 288x288 with 1 Axes>"
      ]
     },
     "metadata": {
      "needs_background": "light"
     },
     "output_type": "display_data"
    }
   ],
   "source": [
    "#b = list(range(1,10))\n",
    "#print(b)\n",
    "b = []\n",
    "for i in range(1,9):\n",
    "    pca = PCA(n_components=i)\n",
    "    new = pca.fit_transform(eight)\n",
    "    new_inverse = pca.inverse_transform(new)\n",
    "    plt.gray() \n",
    "    plt.matshow(new_inverse) \n",
    "    plt.show()\n",
    "    mse = mean_squared_error(five, new_inverse, squared=True)\n",
    "    b.append(mse)"
   ]
  },
  {
   "cell_type": "code",
   "execution_count": 52,
   "metadata": {},
   "outputs": [
    {
     "name": "stdout",
     "output_type": "stream",
     "text": [
      "[5.626790399201109, 0.6881812199771404, 0.2390905803576096, 0.05625253906650848, 3.174015856230302e-30, 3.216091042263934e-30, 3.216091042263934e-30, 3.216091042263934e-30]\n"
     ]
    }
   ],
   "source": [
    "print(b)"
   ]
  },
  {
   "cell_type": "code",
   "execution_count": 63,
   "metadata": {},
   "outputs": [],
   "source": [
    "import pandas as pd"
   ]
  },
  {
   "cell_type": "code",
   "execution_count": 65,
   "metadata": {},
   "outputs": [
    {
     "data": {
      "text/plain": [
       "<AxesSubplot:>"
      ]
     },
     "execution_count": 65,
     "metadata": {},
     "output_type": "execute_result"
    },
    {
     "data": {
      "image/png": "[encoded data removed]",
      "text/plain": [
       "<Figure size 432x288 with 1 Axes>"
      ]
     },
     "metadata": {
      "needs_background": "light"
     },
     "output_type": "display_data"
    }
   ],
   "source": [
    "df = pd.DataFrame({'graph':b} )\n",
    "df.plot()"
   ]
  }
 ],
 "metadata": {
  "kernelspec": {
   "display_name": "Python 3",
   "language": "python",
   "name": "python3"
  },
  "language_info": {
   "codemirror_mode": {
    "name": "ipython",
    "version": 3
   },
   "file_extension": ".py",
   "mimetype": "text/x-python",
   "name": "python",
   "nbconvert_exporter": "python",
   "pygments_lexer": "ipython3",
   "version": "3.7.6"
  }
 },
 "nbformat": 4,
 "nbformat_minor": 4
}

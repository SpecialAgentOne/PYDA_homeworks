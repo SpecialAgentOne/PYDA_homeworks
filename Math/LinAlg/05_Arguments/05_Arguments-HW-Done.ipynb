{
 "cells": [
  {
   "cell_type": "markdown",
   "metadata": {},
   "source": [
    "# Домашнее задание \"Производная функции нескольких аргументов\""
   ]
  },
  {
   "cell_type": "markdown",
   "metadata": {},
   "source": [
    "## Уровень 0\n",
    "Посчитайте частные производные своими руками и на numpy\n",
    "https://github.com/rtriangle/Netology-course/blob/master/homework-5.ipynb"
   ]
  },
  {
   "cell_type": "markdown",
   "metadata": {},
   "source": [
    "## Задание 1:\n",
    "Посчитайте частные производные функций (как обычно, необходимо решение на бумажке или в LaTeX и на scipy):\n",
    "\n",
    "1) $f(x,y)=2x^2y^3 + 1/x + y^2x + 7$, а для этой функции также градиент в точке $(1,2)$\n",
    "\n",
    "2) $f(x,y)=x^2y - sin(xy) + cos(x^2) + 6y$"
   ]
  },
  {
   "cell_type": "code",
   "execution_count": 2,
   "metadata": {},
   "outputs": [],
   "source": [
    "import numpy as np\n",
    "from scipy.optimize import approx_fprime\n",
    "import sympy as sympy\n",
    "from sympy import *"
   ]
  },
  {
   "cell_type": "code",
   "execution_count": 5,
   "metadata": {},
   "outputs": [
    {
     "name": "stdout",
     "output_type": "stream",
     "text": [
      "4*x*y**3 + y**2 - 1/x**2\n",
      "6*x**2*y**2 + 2*x*y\n"
     ]
    }
   ],
   "source": [
    "x = Symbol('x')\n",
    "y = Symbol('y')\n",
    "z = (2*x**2*y**3+1/x+x*y**2+7)\n",
    "\n",
    "diff_x = z.diff(x)\n",
    "diff_y = z.diff(y)\n",
    "\n",
    "print(diff_x)\n",
    "print(diff_y)"
   ]
  },
  {
   "cell_type": "code",
   "execution_count": 7,
   "metadata": {},
   "outputs": [
    {
     "name": "stdout",
     "output_type": "stream",
     "text": [
      "35.0\n"
     ]
    }
   ],
   "source": [
    "# gradient X\n",
    "def one (x,y):\n",
    "    return 4*x*y**3 + y**2 - 1/x**2\n",
    "\n",
    "print(one(1,2))"
   ]
  },
  {
   "cell_type": "code",
   "execution_count": 9,
   "metadata": {},
   "outputs": [
    {
     "name": "stdout",
     "output_type": "stream",
     "text": [
      "28\n"
     ]
    }
   ],
   "source": [
    "# gradient Y\n",
    "def two (x,y):\n",
    "    return 6*x**2*y**2 + 2*x*y\n",
    "\n",
    "print(two(1,2))"
   ]
  },
  {
   "cell_type": "code",
   "execution_count": 15,
   "metadata": {},
   "outputs": [
    {
     "name": "stdout",
     "output_type": "stream",
     "text": [
      "[35.00000024 28.00000024]\n"
     ]
    }
   ],
   "source": [
    "def funct(x):\n",
    "    return 2*x[0]**2*x[1]**3+1/x[0]+x[0]*x[1]**2+7\n",
    "x = [1,2]\n",
    "node = np.sqrt(np.finfo(float).eps)\n",
    "\n",
    "print(approx_fprime(x, funct, node))"
   ]
  },
  {
   "cell_type": "code",
   "execution_count": 23,
   "metadata": {},
   "outputs": [],
   "source": [
    "x = Symbol('x')\n",
    "y = Symbol('y')\n",
    "z = ((x**2)*y-sin(x*y)+cos(x**2)+6*y)"
   ]
  },
  {
   "cell_type": "code",
   "execution_count": 24,
   "metadata": {},
   "outputs": [
    {
     "data": {
      "text/latex": [
       "$\\displaystyle 2 x y - 2 x \\sin{\\left(x^{2} \\right)} - y \\cos{\\left(x y \\right)}$"
      ],
      "text/plain": [
       "2*x*y - 2*x*sin(x**2) - y*cos(x*y)"
      ]
     },
     "execution_count": 24,
     "metadata": {},
     "output_type": "execute_result"
    }
   ],
   "source": [
    "diff_x = z.diff(x)\n",
    "diff_x"
   ]
  },
  {
   "cell_type": "code",
   "execution_count": 25,
   "metadata": {},
   "outputs": [
    {
     "data": {
      "text/latex": [
       "$\\displaystyle x^{2} - x \\cos{\\left(x y \\right)} + 6$"
      ],
      "text/plain": [
       "x**2 - x*cos(x*y) + 6"
      ]
     },
     "execution_count": 25,
     "metadata": {},
     "output_type": "execute_result"
    }
   ],
   "source": [
    "diff_y = z.diff(y)\n",
    "diff_y"
   ]
  },
  {
   "cell_type": "markdown",
   "metadata": {},
   "source": [
    "## Уровень 1\n",
    "Градиентный спуск своими руками\n",
    "https://github.com/rtriangle/Netology-course/blob/master/homework-5.ipynb"
   ]
  },
  {
   "cell_type": "markdown",
   "metadata": {},
   "source": [
    "## Задание 2:\n",
    "Градиентный спуск своими руками\n",
    "\n",
    "In [ ]:\n",
    "def f(x):\n",
    "    return (x[0]**2) + (x[1]**2)\n",
    "In [ ]:\n",
    "x = np.array([100, 200])\n",
    "learning_rate = 0.1\n",
    "In [ ]:\n",
    "for i in range(100):\n",
    "    # Calculate gradient\n",
    "    grad = # Your code here (функция для вычисления градиента есть в лекционном ноутбуке)\n",
    "    \n",
    "    # Update x with gradient\n",
    "    x = # Your code here (смотри слайд презентации про градиентный спуск)\n",
    "In [ ]:\n",
    "print(\"Минимум достигается в: \", x)\n",
    "print(\"Значение функции в минимуме: \", f(x))\n",
    "\n",
    "Проверка с помощью встроенной функции numpy:"
   ]
  },
  {
   "cell_type": "code",
   "execution_count": 30,
   "metadata": {},
   "outputs": [
    {
     "name": "stdout",
     "output_type": "stream",
     "text": [
      "Минимум достигается в:  [1.29197811e-08 3.32901401e-08]\n",
      "Значение функции в минимуме:  1.2751541739575636e-15\n"
     ]
    }
   ],
   "source": [
    "def f(x): \n",
    "    return (x[0]**2) + (x[1]**2) \n",
    "\n",
    "x = np.array([100, 200])\n",
    "learning_rate = 0.1\n",
    "\n",
    "node = np.sqrt(np.finfo(float).eps)\n",
    "\n",
    "for i in range(100):\n",
    "# Calculate gradient\n",
    "    grad = approx_fprime(x, f, node) #(функция для вычисления градиента есть в лекционном ноутбуке)\n",
    "\n",
    "# Update x with gradient\n",
    "    x = x - learning_rate * grad #(смотри слайд презентации про градиентный спуск)\n",
    "\n",
    "print(\"Минимум достигается в: \", x)\n",
    "print(\"Значение функции в минимуме: \", f(x))"
   ]
  },
  {
   "cell_type": "markdown",
   "metadata": {},
   "source": [
    " Проверка с помощью встроенной функции numpy:"
   ]
  },
  {
   "cell_type": "code",
   "execution_count": 31,
   "metadata": {},
   "outputs": [
    {
     "data": {
      "text/plain": [
       "array([2.03703591e-08, 2.03703591e-08])"
      ]
     },
     "execution_count": 31,
     "metadata": {},
     "output_type": "execute_result"
    }
   ],
   "source": [
    "grad_check = np.gradient(x)\n",
    "grad_check"
   ]
  }
 ],
 "metadata": {
  "kernelspec": {
   "display_name": "Python 3",
   "language": "python",
   "name": "python3"
  },
  "language_info": {
   "codemirror_mode": {
    "name": "ipython",
    "version": 3
   },
   "file_extension": ".py",
   "mimetype": "text/x-python",
   "name": "python",
   "nbconvert_exporter": "python",
   "pygments_lexer": "ipython3",
   "version": "3.7.6"
  }
 },
 "nbformat": 4,
 "nbformat_minor": 4
}

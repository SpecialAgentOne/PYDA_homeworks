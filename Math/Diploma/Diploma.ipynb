{
 "cells": [
  {
   "cell_type": "markdown",
   "metadata": {},
   "source": [
    "# Дипломная работа"
   ]
  },
  {
   "cell_type": "code",
   "execution_count": 11,
   "metadata": {},
   "outputs": [],
   "source": [
    "import matplotlib.pyplot as plt\n",
    "import numpy as np\n",
    "from numpy import linalg\n",
    "\n",
    "from scipy.optimize import minimize\n",
    "%matplotlib inline\n",
    "\n",
    "from sklearn.decomposition import TruncatedSVD\n",
    "from sklearn.decomposition import PCA\n",
    "\n",
    "from sympy import *\n",
    "from scipy.misc import derivative\n",
    "\n",
    "import scipy\n",
    "import sklearn"
   ]
  },
  {
   "cell_type": "markdown",
   "metadata": {},
   "source": [
    "## Задание 1\n",
    "\n",
    "Дана матрица рейтингов фильмов (строки - пользователи (10 человек), столбцы - фильмы (15 фильмов))"
   ]
  },
  {
   "cell_type": "code",
   "execution_count": 2,
   "metadata": {},
   "outputs": [],
   "source": [
    "raitings = np.array([[ 4,  4,  9,  4,  1,  6, 10,  7,  9,  6,  9,  2,  8,  6,  6],\n",
    "                     [ 9,  2,  5, 10,  7,  8, 10,  5,  6,  2,  1,  6,  8,  9,  7],\n",
    "                     [ 1,  6,  8,  8,  4,  9,  3,  8, 10,  5,  2,  6,  8,  1,  6],\n",
    "                     [ 6,  1,  9,  7,  7,  9,  2,  3,  5,  1,  6,  6,  3,  2,  7],\n",
    "                     [ 3,  7,  3,  5,  7,  9,  9,  6,  2,  9,  1,  2,  8, 10,  6],\n",
    "                     [ 8,  3,  7,  3,  8,  6,  1,  8,  8,  6,  1,  9,  4, 10,  1],\n",
    "                     [ 9,  8,  4,  8,  8, 10,  6,  1,  1,  2,  9,  5,  2,  7,  2],\n",
    "                     [ 4,  1,  6,  4,  3, 10,  4,  4,  2,  8,  7,  9,  3,  8,  3],\n",
    "                     [ 2,  7,  7,  6, 10,  6,  8,  9,  8,  6, 10,  1,  7, 10,  4],\n",
    "                     [ 5, 10,  8,  8,  9,  7,  2,  9,  9, 10,  8,  8,  8,  6, 10]])"
   ]
  },
  {
   "cell_type": "markdown",
   "metadata": {},
   "source": [
    "a) Необходимо найти наиболее похожего пользователя по косинусной метрике для каждого из (ответ: 10 пар вида (x, y), где y - наиболее похожий пользователь на пользователя x).\n",
    "\n",
    "b) Предположим, вы захотели сжать признаковые описания пользователя с 15 фильмов, до, скажем, 5-ти признаков, как вы это сделаете?"
   ]
  },
  {
   "cell_type": "code",
   "execution_count": 3,
   "metadata": {},
   "outputs": [],
   "source": [
    "# Ищем наиболее подходящего пользователя\n",
    "\n",
    "def cosinus(x, y):\n",
    "    xLength = np.linalg.norm( x )\n",
    "    yLength = np.linalg.norm( y )\n",
    "    \n",
    "    return np.dot(x,y) / ( xLength * yLength)"
   ]
  },
  {
   "cell_type": "code",
   "execution_count": 4,
   "metadata": {},
   "outputs": [
    {
     "name": "stdout",
     "output_type": "stream",
     "text": [
      "Пользователь 1 похож на пользователя 9\n",
      "Пользователь 2 похож на пользователя 5\n",
      "Пользователь 3 похож на пользователя 10\n",
      "Пользователь 4 похож на пользователя 10\n",
      "Пользователь 5 похож на пользователя 9\n",
      "Пользователь 6 похож на пользователя 10\n",
      "Пользователь 7 похож на пользователя 4\n",
      "Пользователь 8 похож на пользователя 6\n",
      "Пользователь 9 похож на пользователя 1\n",
      "Пользователь 10 похож на пользователя 3\n"
     ]
    }
   ],
   "source": [
    "for i in range(len(raitings)):\n",
    "    sim = 0\n",
    "    for j in range(len(raitings)):\n",
    "        if i == j:\n",
    "            continue\n",
    "            \n",
    "        x = raitings[i]\n",
    "        y = raitings[j]\n",
    "        cos = cosinus(x, y)\n",
    "            \n",
    "        if cos > sim:\n",
    "            sim = cos\n",
    "            usr = j + 1\n",
    "            \n",
    "    print('Пользователь', i+1, 'похож на пользователя', usr)"
   ]
  },
  {
   "cell_type": "code",
   "execution_count": 6,
   "metadata": {},
   "outputs": [
    {
     "ename": "NameError",
     "evalue": "name 'pairwise_distances' is not defined",
     "output_type": "error",
     "traceback": [
      "\u001b[0;31m---------------------------------------------------------------------------\u001b[0m",
      "\u001b[0;31mNameError\u001b[0m                                 Traceback (most recent call last)",
      "\u001b[0;32m<ipython-input-6-5668cb43b0f6>\u001b[0m in \u001b[0;36m<module>\u001b[0;34m\u001b[0m\n\u001b[1;32m      8\u001b[0m         \u001b[0my\u001b[0m \u001b[0;34m=\u001b[0m \u001b[0mraitings\u001b[0m\u001b[0;34m[\u001b[0m\u001b[0mj\u001b[0m\u001b[0;34m]\u001b[0m\u001b[0;34m\u001b[0m\u001b[0;34m\u001b[0m\u001b[0m\n\u001b[1;32m      9\u001b[0m         \u001b[0mcos\u001b[0m \u001b[0;34m=\u001b[0m \u001b[0mscipy\u001b[0m\u001b[0;34m.\u001b[0m\u001b[0mspatial\u001b[0m\u001b[0;34m.\u001b[0m\u001b[0mdistance\u001b[0m\u001b[0;34m.\u001b[0m\u001b[0mcorrelation\u001b[0m\u001b[0;34m(\u001b[0m\u001b[0;34m[\u001b[0m\u001b[0mi\u001b[0m\u001b[0;34m]\u001b[0m\u001b[0;34m,\u001b[0m \u001b[0;34m[\u001b[0m\u001b[0mj\u001b[0m\u001b[0;34m]\u001b[0m\u001b[0;34m)\u001b[0m\u001b[0;34m\u001b[0m\u001b[0;34m\u001b[0m\u001b[0m\n\u001b[0;32m---> 10\u001b[0;31m         \u001b[0mpairwise_distances\u001b[0m\u001b[0;34m(\u001b[0m\u001b[0;34m[\u001b[0m\u001b[0;34m[\u001b[0m\u001b[0mi\u001b[0m\u001b[0;34m]\u001b[0m\u001b[0;34m,\u001b[0m \u001b[0;34m[\u001b[0m\u001b[0mj\u001b[0m\u001b[0;34m]\u001b[0m\u001b[0;34m]\u001b[0m\u001b[0;34m,\u001b[0m \u001b[0mmetric\u001b[0m\u001b[0;34m=\u001b[0m\u001b[0;34m'correlation'\u001b[0m\u001b[0;34m)\u001b[0m\u001b[0;34m\u001b[0m\u001b[0;34m\u001b[0m\u001b[0m\n\u001b[0m\u001b[1;32m     11\u001b[0m \u001b[0;34m\u001b[0m\u001b[0m\n\u001b[1;32m     12\u001b[0m         \u001b[0;32mif\u001b[0m \u001b[0mcos\u001b[0m \u001b[0;34m>\u001b[0m \u001b[0msim\u001b[0m\u001b[0;34m:\u001b[0m\u001b[0;34m\u001b[0m\u001b[0;34m\u001b[0m\u001b[0m\n",
      "\u001b[0;31mNameError\u001b[0m: name 'pairwise_distances' is not defined"
     ]
    }
   ],
   "source": [
    "for i in range(len(raitings)):\n",
    "    sim = 0\n",
    "    for j in range(len(raitings)):\n",
    "        while i != j:\n",
    "            continue\n",
    "            \n",
    "        x = raitings[i]\n",
    "        y = raitings[j]\n",
    "        cos = scipy.spatial.distance.correlation([i], [j])\n",
    "        pairwise_distances([[i], [j]], metric='correlation')\n",
    "    \n",
    "        if cos > sim:\n",
    "            sim = cos\n",
    "            usr = j + 1\n",
    "            \n",
    "    print('Пользователь', i+1, 'похож на пользователя', usr)"
   ]
  },
  {
   "cell_type": "code",
   "execution_count": 7,
   "metadata": {},
   "outputs": [
    {
     "name": "stdout",
     "output_type": "stream",
     "text": [
      "[[23.41982063 -5.36092136  3.83196779 -4.06950174  1.10267269]\n",
      " [24.76774917  4.52188701  1.35815965  1.58128545  8.59912002]\n",
      " [22.27728589 -6.96492049 -4.84461485 -0.47661647  3.37152266]\n",
      " [19.4257757   2.64575227 -6.86014009 -4.76604765  1.96075707]\n",
      " [22.8146354   0.51464093  7.70180188  4.42379773  1.29124163]\n",
      " [21.76961656  1.94294987 -4.56934779  8.32306487 -2.21887359]\n",
      " [21.23427453  9.78047778  1.16340271 -4.86074521 -2.60815471]\n",
      " [19.97476815  4.00048677 -1.67456316  1.1512346  -3.5637169 ]\n",
      " [26.39306998 -3.03090482  5.86422753 -1.67503491 -3.71500141]\n",
      " [29.94016844 -4.82012297 -3.48912415  0.05527083 -3.62526487]]\n"
     ]
    }
   ],
   "source": [
    "# Сжать с 15 фильмов до 5-ти признаков SVD-метод\n",
    "\n",
    "zip_ = TruncatedSVD(n_components = 5)\n",
    "zipped = zip_.fit_transform(raitings)\n",
    "\n",
    "print(zipped)"
   ]
  },
  {
   "cell_type": "code",
   "execution_count": 8,
   "metadata": {},
   "outputs": [
    {
     "name": "stdout",
     "output_type": "stream",
     "text": [
      "[[-5.30986101  1.92919845 -4.93300027  2.70188013  5.50497886]\n",
      " [ 2.87763403  2.71659559  1.40592782  7.26325751 -4.50322291]\n",
      " [-4.94010408 -6.68861167 -0.94550184  3.61556661 -0.68969272]\n",
      " [ 5.14939908 -6.28027284 -4.65978558  1.09024004 -1.01471112]\n",
      " [-1.37488691  7.54357985  4.00834369  2.1284001  -0.16324949]\n",
      " [ 2.65341956 -3.77075601  8.58430748 -1.46628319  1.67401769]\n",
      " [ 8.61573944  3.78603335 -4.02721027 -4.37582577 -3.13880277]\n",
      " [ 5.39658258 -1.0170466   1.01456742 -1.89512837  6.54883538]\n",
      " [-5.7843488   5.29857107 -1.48083611 -3.71295542  0.21312695]\n",
      " [-7.2835739  -3.51729118  1.03318766 -5.34915166 -4.43127987]]\n"
     ]
    }
   ],
   "source": [
    "# Сжать с 15 фильмов до 5-ти признаков PCA-метод\n",
    "\n",
    "pca = PCA(n_components = 5)\n",
    "new = pca.fit_transform(raitings)\n",
    "\n",
    "print(new)"
   ]
  },
  {
   "cell_type": "markdown",
   "metadata": {},
   "source": [
    "## Задание 2\n",
    "Вычислите производную $tg^2(sin(x) + cos(2x+3))$ в точке $x_0=1$ на python и на бумаге (просто подставить точку в производную и ничего не упрощать)."
   ]
  },
  {
   "cell_type": "code",
   "execution_count": 12,
   "metadata": {},
   "outputs": [
    {
     "data": {
      "text/latex": [
       "$\\displaystyle 2 \\left(- 2 \\sin{\\left(2 x + 3 \\right)} + \\cos{\\left(x \\right)}\\right) \\left(\\tan^{2}{\\left(\\sin{\\left(x \\right)} + \\cos{\\left(2 x + 3 \\right)} \\right)} + 1\\right) \\tan{\\left(\\sin{\\left(x \\right)} + \\cos{\\left(2 x + 3 \\right)} \\right)}$"
      ],
      "text/plain": [
       "2*(-2*sin(2*x + 3) + cos(x))*(tan(sin(x) + cos(2*x + 3))**2 + 1)*tan(sin(x) + cos(2*x + 3))"
      ]
     },
     "execution_count": 12,
     "metadata": {},
     "output_type": "execute_result"
    }
   ],
   "source": [
    "x = Symbol('x')\n",
    "y = (tan(sin(x)+cos(2*x+3)))**2\n",
    "result = y.diff(x)\n",
    "\n",
    "result"
   ]
  },
  {
   "cell_type": "code",
   "execution_count": 13,
   "metadata": {},
   "outputs": [
    {
     "name": "stdout",
     "output_type": "stream",
     "text": [
      "55.3859176433136\n"
     ]
    }
   ],
   "source": [
    "def f1(x):\n",
    "    return (tan(sin(x)+cos(2*x+3)))**2\n",
    "\n",
    "result = derivative(f1, 1, dx = 1e-6)\n",
    "\n",
    "print(result)"
   ]
  },
  {
   "cell_type": "markdown",
   "metadata": {},
   "source": [
    "## Задание 3\n",
    "\n",
    "Дана функция с неизвестными параметрами a и b, вам также известны значения функции fx в точках x. Найдите оптимальные параметры a, b, минимизирующие абсолютную ошибку error"
   ]
  },
  {
   "cell_type": "code",
   "execution_count": 14,
   "metadata": {},
   "outputs": [],
   "source": [
    "def f(x, a, b):\n",
    "    return np.e**a * np.sin(b*x) + x"
   ]
  },
  {
   "cell_type": "code",
   "execution_count": 15,
   "metadata": {},
   "outputs": [],
   "source": [
    "x = np.array([0.        , 0.26315789, 0.52631579, 0.78947368, 1.05263158,\n",
    "              1.31578947, 1.57894737, 1.84210526, 2.10526316, 2.36842105,\n",
    "              2.63157895, 2.89473684, 3.15789474, 3.42105263, 3.68421053,\n",
    "              3.94736842, 4.21052632, 4.47368421, 4.73684211, 5.        ])"
   ]
  },
  {
   "cell_type": "code",
   "execution_count": 16,
   "metadata": {},
   "outputs": [],
   "source": [
    "fx = np.array([  0.        , -12.01819092, -18.90968634, -17.68786571,\n",
    "                -8.7529108 ,   4.27524517,  16.06801336,  21.81250213,\n",
    "                19.22059845,   9.48411207,  -3.22273056, -13.48576488,\n",
    "               -16.91096359, -11.95866834,  -0.58630088,  12.56873816,\n",
    "                22.12489421,  24.20292139,  18.04522521,   6.33211092])"
   ]
  },
  {
   "cell_type": "code",
   "execution_count": 17,
   "metadata": {},
   "outputs": [
    {
     "data": {
      "image/png": "[encoded data removed]",
      "text/plain": [
       "<Figure size 432x288 with 1 Axes>"
      ]
     },
     "metadata": {
      "needs_background": "light"
     },
     "output_type": "display_data"
    }
   ],
   "source": [
    "plt.plot(x, fx)\n",
    "plt.show()"
   ]
  },
  {
   "cell_type": "code",
   "execution_count": 18,
   "metadata": {},
   "outputs": [],
   "source": [
    "def error(params):\n",
    "    return np.sum(np.abs(fx - f(x, params[0], params[1])))"
   ]
  },
  {
   "cell_type": "code",
   "execution_count": 19,
   "metadata": {},
   "outputs": [
    {
     "name": "stdout",
     "output_type": "stream",
     "text": [
      "a = 1.2414859341469637\n",
      "b = 54.11441775796914\n"
     ]
    }
   ],
   "source": [
    "# Решение задачи\n",
    "\n",
    "params = [2,55]\n",
    "result = minimize(error, params)\n",
    "\n",
    "print('a =', result.x[0])\n",
    "print('b =', result.x[1])"
   ]
  },
  {
   "cell_type": "markdown",
   "metadata": {},
   "source": [
    "## Задание 4\n",
    "\n",
    "Создайте собственную дискретную случайную величину с 20 значениями. Сгенерируйте 1000 выборок размера 50. Посчитайте среднее для каждой выборки. Постройте гистограмму распределения средних."
   ]
  },
  {
   "cell_type": "code",
   "execution_count": 26,
   "metadata": {},
   "outputs": [
    {
     "name": "stdout",
     "output_type": "stream",
     "text": [
      "[17. 17.  8. ...  4. 16. 10.]\n",
      "[10.84, 11.44, 9.66, 10.92, 10.92, 10.14, 9.7, 11.06, 10.86, 11.26, 12.86, 12.1, 10.52, 11.14, 11.9]\n"
     ]
    }
   ],
   "source": [
    "rand = np.random.randint(low=1, high=20, size=20)\n",
    "\n",
    "total = np.array([])\n",
    "mean = []\n",
    "\n",
    "for i in range(1000):\n",
    "    new = np.random.choice(rand, 50)\n",
    "    total = np.concatenate((total, new), axis = None)\n",
    "#Посчитайте среднее для каждой выборки\n",
    "    mean.append(new.mean())\n",
    "#     print(new_array)\n",
    "print(total)\n",
    "print(mean[0:15])"
   ]
  },
  {
   "cell_type": "code",
   "execution_count": 27,
   "metadata": {},
   "outputs": [
    {
     "data": {
      "image/png": "[encoded data removed]",
      "text/plain": [
       "<Figure size 432x288 with 1 Axes>"
      ]
     },
     "metadata": {
      "needs_background": "light"
     },
     "output_type": "display_data"
    }
   ],
   "source": [
    "#Постройте гистограмму распределения средних\n",
    "\n",
    "plt.hist(mean, 1000, color='b')\n",
    "plt.show()"
   ]
  },
  {
   "cell_type": "markdown",
   "metadata": {},
   "source": [
    "## Задание 5\n",
    "\n",
    "Найдите собственные значения и собственные вектора матрицы (на python и на бумаге)\n",
    "\n",
    "[[1, 4],\n",
    "\n",
    "[1, 1]]"
   ]
  },
  {
   "cell_type": "code",
   "execution_count": 29,
   "metadata": {},
   "outputs": [
    {
     "name": "stdout",
     "output_type": "stream",
     "text": [
      "[[1 4]\n",
      " [1 1]]\n"
     ]
    }
   ],
   "source": [
    "matrix = np.array([[1, 4], [1, 1]])\n",
    "print(matrix)"
   ]
  },
  {
   "cell_type": "code",
   "execution_count": 31,
   "metadata": {},
   "outputs": [
    {
     "name": "stdout",
     "output_type": "stream",
     "text": [
      "3.0000000000000004\n",
      "[0.89442719 0.4472136 ]\n",
      "-0.9999999999999996\n",
      "[-0.89442719  0.4472136 ]\n"
     ]
    }
   ],
   "source": [
    "a, b = np.linalg.eig(matrix)\n",
    "\n",
    "for i in range(len(a)):\n",
    "    print(str(a[i]))\n",
    "    print(str(b[:,i]))"
   ]
  }
 ],
 "metadata": {
  "kernelspec": {
   "display_name": "Python 3",
   "language": "python",
   "name": "python3"
  },
  "language_info": {
   "codemirror_mode": {
    "name": "ipython",
    "version": 3
   },
   "file_extension": ".py",
   "mimetype": "text/x-python",
   "name": "python",
   "nbconvert_exporter": "python",
   "pygments_lexer": "ipython3",
   "version": "3.7.6"
  }
 },
 "nbformat": 4,
 "nbformat_minor": 4
}

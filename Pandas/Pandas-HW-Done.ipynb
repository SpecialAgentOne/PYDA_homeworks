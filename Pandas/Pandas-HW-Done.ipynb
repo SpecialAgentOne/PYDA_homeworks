{
 "cells": [
  {
   "cell_type": "markdown",
   "metadata": {},
   "source": [
    "## Домашнее задание Pandas"
   ]
  },
  {
   "cell_type": "markdown",
   "metadata": {},
   "source": [
    "### Задание 1\n",
    "Скачайте с сайта https://grouplens.org/datasets/movielens/ датасет любого размера. Определите какому фильму было выставлено больше всего оценок 5.0.\n"
   ]
  },
  {
   "cell_type": "code",
   "execution_count": 5,
   "metadata": {},
   "outputs": [],
   "source": [
    "import pandas as pd"
   ]
  },
  {
   "cell_type": "code",
   "execution_count": 80,
   "metadata": {},
   "outputs": [
    {
     "name": "stdout",
     "output_type": "stream",
     "text": [
      "Больше всего оценок пять у фильма:  277    Shawshank Redemption, The (1994)\n",
      "Name: title, dtype: object\n"
     ]
    }
   ],
   "source": [
    "# загружаю файлы с рэйтингом и с фильмами\n",
    "rate = pd.read_csv('ml-latest-small/ratings.csv').filter(items = ['movieId', 'rating'])\n",
    "movies = pd.read_csv('ml-latest-small/movies.csv').filter(items = ['movieId', 'title'])\n",
    "\n",
    "#rate.head\n",
    "#print(rate.head)\n",
    "#movies.head\n",
    "#print(movies.title.head)\n",
    "\n",
    "#movies[5:5]\n",
    "#print(movies)\n",
    "\n",
    "# выставляется значение рэйтинга, в нашем случае в пять баллов\n",
    "high_rate = rate[ (rate['rating'] == 5)]\n",
    "\n",
    "# для накопления и упрощения ввожу несколько переменных\n",
    "five_star = {}\n",
    "m = movie\n",
    "\n",
    "for m in high_rate['movieId']:\n",
    "    if m in five_star:\n",
    "        five_star[m] += 1\n",
    "    else:\n",
    "        five_star[m] = 1\n",
    "        \n",
    "five_star_max = max(five_star, key = five_star.get)\n",
    "\n",
    "name = movies[(movies['movieId'] == five_star_max)]\n",
    "\n",
    "\n",
    "print('Больше всего оценок пять у фильма: ', name.title.head())"
   ]
  },
  {
   "cell_type": "markdown",
   "metadata": {},
   "source": [
    "### Задание 2 \n",
    "По данным файла power.csv посчитайте суммарное потребление стран Прибалтики (Латвия, Литва и Эстония) категорий 4, 12 и 21 за период с 2005 по 2010 года. Не учитывайте в расчетах отрицательные значения quantity."
   ]
  },
  {
   "cell_type": "code",
   "execution_count": null,
   "metadata": {},
   "outputs": [],
   "source": [
    "power = pd.read_csv('power.csv')\n",
    "power['category'].unique()\n",
    "\n",
    "power_baltic = power[ (power['country']=='Lithuania') | (power['country']=='Latvia') | (power['country']=='Estonia') ]\n",
    "power_baltic_categories = power_baltic[ (power_baltic['category']==4) | (power_baltic['category']==12) | (power_baltic['category']==21) ]\n",
    "power_baltic_categories_years = power_baltic_categories[ (power_baltic_categories['year']==2005) | (power_baltic_categories['year']==2006) | (power_baltic_categories['year']==2007) | (power_baltic_categories['year']==2008) | (power_baltic_categories['year']==2009) | (power_baltic_categories['year']==2010)]\n",
    "\n",
    "total_consumption = 0\n",
    "for quantity in power_baltic_categories_years['quantity']:\n",
    "    if quantity > 0:\n",
    "        total_consumption += quantity\n",
    "print('Суммарное потребление стран Прибалтики:', total_consumption)"
   ]
  },
  {
   "cell_type": "code",
   "execution_count": 118,
   "metadata": {},
   "outputs": [
    {
     "name": "stdout",
     "output_type": "stream",
     "text": [
      "Суммарное потребение стран Прибалтики в категориях 4, 12 и 21 за период с 2005 по 2010 годы: 240580.0\n"
     ]
    }
   ],
   "source": [
    "cons = pd.read_csv('power.csv')\n",
    "#print(cons.country.head)\n",
    "\n",
    "# проверка стран на принодлежность к Прибалтике\n",
    "def country(balt):\n",
    "    if balt in ['Lithuania','Latvia','Estonia']:\n",
    "        return True\n",
    "    return False\n",
    "\n",
    "#country = cons[(cons['country'] == 'Lithuania', 'Latvia', 'Estonia')]\n",
    "#print(country)\n",
    "\n",
    "#cons.head\n",
    "#print(cons.head)\n",
    "\n",
    "# проверка, является ли страна из списка частью Прибалтики\n",
    "cons['baltic'] = cons['country'].apply(country)\n",
    "#print(cons.head())\n",
    "\n",
    "# собираем все страны Прибалтики с нужными ключами\n",
    "cons_balt = cons.query(\"baltic == True\")[['country','quantity','category','year']]\n",
    "#print(cons_balt.head())\n",
    "#cons_balt['country'].unique()\n",
    "\n",
    "# вывод стран по условию\n",
    "total = (cons_balt.query('year >= 2005 & year <= 2010').query('category == 4 | category == 12 | category == 21').query('quantity > 0'))\n",
    "#print(total['quantity'])\n",
    "\n",
    "# суммируем значения у total\n",
    "total_sum = sum(total['quantity'])\n",
    "print('Суммарное потребение стран Прибалтики в категориях 4, 12 и 21 за период с 2005 по 2010 годы:', total_sum)"
   ]
  },
  {
   "cell_type": "markdown",
   "metadata": {},
   "source": [
    "### Задание 3 \n",
    "Выберите страницу любого сайта с табличными данными. Импортируйте таблицы в pandas dataframe. Примеры страниц (необязательно брать именно эти): https://fortrader.org/quotes https://www.finanz.ru/valyuty/v-realnom-vremeni"
   ]
  },
  {
   "cell_type": "code",
   "execution_count": 91,
   "metadata": {},
   "outputs": [
    {
     "name": "stdout",
     "output_type": "stream",
     "text": [
      "                      Название       Цена  Изменение  Изменение(%)  Обновлено\n",
      "0      Серебро Цена на серебро    28.3480     1.4710        5.4730        NaN\n",
      "1    Палладий Цена на Палладий  2256.2500    28.6500        1.2900        NaN\n",
      "2  Золото Цена золота на бирже  2055.8000     4.6000        0.2000        NaN\n",
      "3      Платина Цены на платину  1009.1000    18.0000        1.8000        NaN\n",
      "4      Медь Цена меди на бирже     2.4575    -0.4605      -15.7814        NaN\n"
     ]
    }
   ],
   "source": [
    "# взял страницу из примера, вывел значения из таблиц по драгоценным металлам\n",
    "page = pd.read_html('https://fortrader.org/quotes')[2]\n",
    "print(page, sep='\\n')"
   ]
  }
 ],
 "metadata": {
  "kernelspec": {
   "display_name": "Python 3",
   "language": "python",
   "name": "python3"
  },
  "language_info": {
   "codemirror_mode": {
    "name": "ipython",
    "version": 3
   },
   "file_extension": ".py",
   "mimetype": "text/x-python",
   "name": "python",
   "nbconvert_exporter": "python",
   "pygments_lexer": "ipython3",
   "version": "3.7.6"
  }
 },
 "nbformat": 4,
 "nbformat_minor": 4
}

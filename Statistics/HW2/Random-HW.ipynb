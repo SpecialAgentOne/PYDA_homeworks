{
 "cells": [
  {
   "cell_type": "markdown",
   "metadata": {},
   "source": [
    "Смоделировать игру против лотерейного автомата типа “777”. Игрок платит 1 руб., после чего выпадает случайное целое число, равномерно распределенное от 0 до 999. При некоторых значениях числа игрок получает выигрыш (см. справа)\n",
    "\n",
    "Выгодна ли игра игроку?\n",
    "\n",
    "Сколько в среднем приобретает\n",
    "или теряет игрок за одну игру?\n",
    "\n",
    " - 777: 200 руб.\n",
    " - 999: 100 руб.\n",
    " - 555: 50 руб.\n",
    " - 333: 15 руб.\n",
    " - 111: 10 руб.\n",
    " - *77: 5 руб.\n",
    " - **7: 3 руб.\n",
    " - *00: 2 руб.\n",
    " - **0: 1 руб.\n",
    "\n",
    "           * – любая цифра\n",
    "\n",
    "Дополнительное задание повышенной сложности. Теоретически рассчитать средний выигрыш (проигрыш) и сравнить с результатами моделирования"
   ]
  },
  {
   "cell_type": "code",
   "execution_count": 2,
   "metadata": {},
   "outputs": [],
   "source": [
    "import numpy as np\n",
    "import pandas as pd"
   ]
  },
  {
   "cell_type": "code",
   "execution_count": 24,
   "metadata": {},
   "outputs": [
    {
     "name": "stdout",
     "output_type": "stream",
     "text": [
      "Всего сыграно 1000000 игр\n",
      "Выиграно 204589 раз\n",
      "Проиграно 795411 раз\n",
      "\n",
      "Игра невыгодна для игрока, он в среднем теряет -0.173711 руб. за одну игру\n"
     ]
    }
   ],
   "source": [
    "win = 0 # Победы\n",
    "lose = 0 # Поражения\n",
    "score = 0 # Счёт\n",
    "games = 1000000 # Количество игр\n",
    "\n",
    "for i in range(games):\n",
    "    score -= 1\n",
    "    combination = np.random.randint(0,1000)\n",
    "    if combination == 777:\n",
    "        win += 1\n",
    "        score += 200\n",
    "    elif combination == 999:\n",
    "        win += 1\n",
    "        score += 100\n",
    "    elif combination == 555:\n",
    "        win += 1\n",
    "        score += 50\n",
    "    elif combination == 333:\n",
    "        win += 1\n",
    "        score += 15\n",
    "    elif combination == 111:\n",
    "        win += 1\n",
    "        score += 10\n",
    "    elif (combination - 77) % 100 == 0:\n",
    "        win += 1\n",
    "        score += 5\n",
    "    elif (combination - 7) % 10 == 0:\n",
    "        win += 1\n",
    "        score += 3\n",
    "    elif combination % 100 == 0:\n",
    "        win += 1\n",
    "        score += 2\n",
    "    elif combination % 10 == 0 and combination % 100 != 0:\n",
    "        win += 1\n",
    "        score += 1\n",
    "    else:\n",
    "        lose +=1\n",
    "        \n",
    "print(f'Всего сыграно {win+lose} игр\\nВыиграно {win} раз\\nПроиграно {lose} раз\\n')\n",
    "\n",
    "if score > 0:\n",
    "    print(f'Игра выгодна для игрока, он в среднем получает {score/games} руб. за одну игру')\n",
    "else:\n",
    "    print(f'Игра невыгодна для игрока, он в среднем теряет {score/games} руб. за одну игру')"
   ]
  },
  {
   "cell_type": "markdown",
   "metadata": {},
   "source": [
    "## Дополнительное задание повышенной сложности. \n",
    "Теоретически рассчитать средний выигрыш (проигрыш) и сравнить с результатами моделирования"
   ]
  },
  {
   "cell_type": "code",
   "execution_count": 26,
   "metadata": {},
   "outputs": [
    {
     "data": {
      "text/plain": [
       "-0.19999999999999996"
      ]
     },
     "execution_count": 26,
     "metadata": {},
     "output_type": "execute_result"
    }
   ],
   "source": [
    "result = (1/1000*200 + 1/1000*100 + 1/1000*50 + 1/1000*15 + 1/1000*10 +9/1000*5 + 90/1000*3 + 10/1000*2 + 90/1000*1) - 1\n",
    "result"
   ]
  },
  {
   "cell_type": "code",
   "execution_count": 27,
   "metadata": {},
   "outputs": [
    {
     "data": {
      "text/plain": [
       "-0.02628899999999995"
      ]
     },
     "execution_count": 27,
     "metadata": {},
     "output_type": "execute_result"
    }
   ],
   "source": [
    "result - score/games"
   ]
  }
 ],
 "metadata": {
  "kernelspec": {
   "display_name": "Python 3",
   "language": "python",
   "name": "python3"
  },
  "language_info": {
   "codemirror_mode": {
    "name": "ipython",
    "version": 3
   },
   "file_extension": ".py",
   "mimetype": "text/x-python",
   "name": "python",
   "nbconvert_exporter": "python",
   "pygments_lexer": "ipython3",
   "version": "3.7.9"
  }
 },
 "nbformat": 4,
 "nbformat_minor": 4
}

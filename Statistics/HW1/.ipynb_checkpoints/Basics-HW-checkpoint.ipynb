{
 "cells": [
  {
   "cell_type": "markdown",
   "metadata": {},
   "source": [
    "\n",
    "## Домашнее задание к лекции \"Базовые понятия статистики\"\n",
    "**Обязательная часть**\n",
    "\n",
    "Будем осуществлять работу с непростым набором данных о состоянии здоровья лошадей, испытывающих кишечные колики.\n",
    "\n",
    "\n"
   ]
  },
  {
   "cell_type": "markdown",
   "metadata": {},
   "source": [
    "**Задание 1. Базовое изучение**\n",
    "\n",
    "Изучить представленный набор данных на основе описания его столбцов и выбрать 8 столбцов для дальнейшего изучения (среди них должны быть как числовые, так и категориальные). Провести расчет базовых метрик для них, кратко описать результаты.\n"
   ]
  },
  {
   "cell_type": "code",
   "execution_count": 26,
   "metadata": {},
   "outputs": [
    {
     "data": {
      "text/html": [
       "<div>\n",
       "<style scoped>\n",
       "    .dataframe tbody tr th:only-of-type {\n",
       "        vertical-align: middle;\n",
       "    }\n",
       "\n",
       "    .dataframe tbody tr th {\n",
       "        vertical-align: top;\n",
       "    }\n",
       "\n",
       "    .dataframe thead th {\n",
       "        text-align: right;\n",
       "    }\n",
       "</style>\n",
       "<table border=\"1\" class=\"dataframe\">\n",
       "  <thead>\n",
       "    <tr style=\"text-align: right;\">\n",
       "      <th></th>\n",
       "      <th>0</th>\n",
       "      <th>1</th>\n",
       "      <th>2</th>\n",
       "      <th>3</th>\n",
       "      <th>4</th>\n",
       "      <th>5</th>\n",
       "      <th>6</th>\n",
       "      <th>7</th>\n",
       "      <th>8</th>\n",
       "      <th>9</th>\n",
       "      <th>...</th>\n",
       "      <th>18</th>\n",
       "      <th>19</th>\n",
       "      <th>20</th>\n",
       "      <th>21</th>\n",
       "      <th>22</th>\n",
       "      <th>23</th>\n",
       "      <th>24</th>\n",
       "      <th>25</th>\n",
       "      <th>26</th>\n",
       "      <th>27</th>\n",
       "    </tr>\n",
       "  </thead>\n",
       "  <tbody>\n",
       "    <tr>\n",
       "      <th>0</th>\n",
       "      <td>2</td>\n",
       "      <td>1</td>\n",
       "      <td>530101</td>\n",
       "      <td>38.50</td>\n",
       "      <td>66</td>\n",
       "      <td>28</td>\n",
       "      <td>3</td>\n",
       "      <td>3</td>\n",
       "      <td>?</td>\n",
       "      <td>2</td>\n",
       "      <td>...</td>\n",
       "      <td>45.00</td>\n",
       "      <td>8.40</td>\n",
       "      <td>?</td>\n",
       "      <td>?</td>\n",
       "      <td>2</td>\n",
       "      <td>2</td>\n",
       "      <td>11300</td>\n",
       "      <td>0</td>\n",
       "      <td>0</td>\n",
       "      <td>2</td>\n",
       "    </tr>\n",
       "    <tr>\n",
       "      <th>1</th>\n",
       "      <td>1</td>\n",
       "      <td>1</td>\n",
       "      <td>534817</td>\n",
       "      <td>39.2</td>\n",
       "      <td>88</td>\n",
       "      <td>20</td>\n",
       "      <td>?</td>\n",
       "      <td>?</td>\n",
       "      <td>4</td>\n",
       "      <td>1</td>\n",
       "      <td>...</td>\n",
       "      <td>50</td>\n",
       "      <td>85</td>\n",
       "      <td>2</td>\n",
       "      <td>2</td>\n",
       "      <td>3</td>\n",
       "      <td>2</td>\n",
       "      <td>2208</td>\n",
       "      <td>0</td>\n",
       "      <td>0</td>\n",
       "      <td>2</td>\n",
       "    </tr>\n",
       "    <tr>\n",
       "      <th>2</th>\n",
       "      <td>2</td>\n",
       "      <td>1</td>\n",
       "      <td>530334</td>\n",
       "      <td>38.30</td>\n",
       "      <td>40</td>\n",
       "      <td>24</td>\n",
       "      <td>1</td>\n",
       "      <td>1</td>\n",
       "      <td>3</td>\n",
       "      <td>1</td>\n",
       "      <td>...</td>\n",
       "      <td>33.00</td>\n",
       "      <td>6.70</td>\n",
       "      <td>?</td>\n",
       "      <td>?</td>\n",
       "      <td>1</td>\n",
       "      <td>2</td>\n",
       "      <td>0</td>\n",
       "      <td>0</td>\n",
       "      <td>0</td>\n",
       "      <td>1</td>\n",
       "    </tr>\n",
       "    <tr>\n",
       "      <th>3</th>\n",
       "      <td>1</td>\n",
       "      <td>9</td>\n",
       "      <td>5290409</td>\n",
       "      <td>39.10</td>\n",
       "      <td>164</td>\n",
       "      <td>84</td>\n",
       "      <td>4</td>\n",
       "      <td>1</td>\n",
       "      <td>6</td>\n",
       "      <td>2</td>\n",
       "      <td>...</td>\n",
       "      <td>48.00</td>\n",
       "      <td>7.20</td>\n",
       "      <td>3</td>\n",
       "      <td>5.30</td>\n",
       "      <td>2</td>\n",
       "      <td>1</td>\n",
       "      <td>2208</td>\n",
       "      <td>0</td>\n",
       "      <td>0</td>\n",
       "      <td>1</td>\n",
       "    </tr>\n",
       "    <tr>\n",
       "      <th>4</th>\n",
       "      <td>2</td>\n",
       "      <td>1</td>\n",
       "      <td>530255</td>\n",
       "      <td>37.30</td>\n",
       "      <td>104</td>\n",
       "      <td>35</td>\n",
       "      <td>?</td>\n",
       "      <td>?</td>\n",
       "      <td>6</td>\n",
       "      <td>2</td>\n",
       "      <td>...</td>\n",
       "      <td>74.00</td>\n",
       "      <td>7.40</td>\n",
       "      <td>?</td>\n",
       "      <td>?</td>\n",
       "      <td>2</td>\n",
       "      <td>2</td>\n",
       "      <td>4300</td>\n",
       "      <td>0</td>\n",
       "      <td>0</td>\n",
       "      <td>2</td>\n",
       "    </tr>\n",
       "  </tbody>\n",
       "</table>\n",
       "<p>5 rows × 28 columns</p>\n",
       "</div>"
      ],
      "text/plain": [
       "  0   1        2      3    4   5  6  7  8  9   ...     18    19 20    21 22  \\\n",
       "0  2   1   530101  38.50   66  28  3  3  ?  2  ...  45.00  8.40  ?     ?  2   \n",
       "1  1   1   534817   39.2   88  20  ?  ?  4  1  ...     50    85  2     2  3   \n",
       "2  2   1   530334  38.30   40  24  1  1  3  1  ...  33.00  6.70  ?     ?  1   \n",
       "3  1   9  5290409  39.10  164  84  4  1  6  2  ...  48.00  7.20  3  5.30  2   \n",
       "4  2   1   530255  37.30  104  35  ?  ?  6  2  ...  74.00  7.40  ?     ?  2   \n",
       "\n",
       "  23     24 25 26 27  \n",
       "0  2  11300  0  0  2  \n",
       "1  2   2208  0  0  2  \n",
       "2  2      0  0  0  1  \n",
       "3  1   2208  0  0  1  \n",
       "4  2   4300  0  0  2  \n",
       "\n",
       "[5 rows x 28 columns]"
      ]
     },
     "execution_count": 26,
     "metadata": {},
     "output_type": "execute_result"
    }
   ],
   "source": [
    "import pandas as pd\n",
    "import numpy as np\n",
    "import matplotlib.pyplot as plt\n",
    "from pylab import rcParams\n",
    "\n",
    "df = pd.read_csv('horse_data.csv', header=None)\n",
    "df.head()"
   ]
  },
  {
   "cell_type": "code",
   "execution_count": 18,
   "metadata": {
    "scrolled": true
   },
   "outputs": [
    {
     "data": {
      "text/html": [
       "<div>\n",
       "<style scoped>\n",
       "    .dataframe tbody tr th:only-of-type {\n",
       "        vertical-align: middle;\n",
       "    }\n",
       "\n",
       "    .dataframe tbody tr th {\n",
       "        vertical-align: top;\n",
       "    }\n",
       "\n",
       "    .dataframe thead th {\n",
       "        text-align: right;\n",
       "    }\n",
       "</style>\n",
       "<table border=\"1\" class=\"dataframe\">\n",
       "  <thead>\n",
       "    <tr style=\"text-align: right;\">\n",
       "      <th></th>\n",
       "      <th>Surgery</th>\n",
       "      <th>Age</th>\n",
       "      <th>Hospital number</th>\n",
       "      <th>Pulse</th>\n",
       "      <th>Pain</th>\n",
       "      <th>Nasogastric tube</th>\n",
       "      <th>Outcome</th>\n",
       "      <th>Surgical lesion</th>\n",
       "    </tr>\n",
       "  </thead>\n",
       "  <tbody>\n",
       "    <tr>\n",
       "      <th>0</th>\n",
       "      <td>2</td>\n",
       "      <td>1</td>\n",
       "      <td>530101</td>\n",
       "      <td>66</td>\n",
       "      <td>5</td>\n",
       "      <td></td>\n",
       "      <td>2</td>\n",
       "      <td>2</td>\n",
       "    </tr>\n",
       "    <tr>\n",
       "      <th>1</th>\n",
       "      <td>1</td>\n",
       "      <td>1</td>\n",
       "      <td>534817</td>\n",
       "      <td>88</td>\n",
       "      <td>3</td>\n",
       "      <td></td>\n",
       "      <td>3</td>\n",
       "      <td>2</td>\n",
       "    </tr>\n",
       "    <tr>\n",
       "      <th>2</th>\n",
       "      <td>2</td>\n",
       "      <td>1</td>\n",
       "      <td>530334</td>\n",
       "      <td>40</td>\n",
       "      <td>3</td>\n",
       "      <td></td>\n",
       "      <td>1</td>\n",
       "      <td>2</td>\n",
       "    </tr>\n",
       "    <tr>\n",
       "      <th>3</th>\n",
       "      <td>1</td>\n",
       "      <td>9</td>\n",
       "      <td>5290409</td>\n",
       "      <td>164</td>\n",
       "      <td>2</td>\n",
       "      <td>1</td>\n",
       "      <td>2</td>\n",
       "      <td>1</td>\n",
       "    </tr>\n",
       "    <tr>\n",
       "      <th>4</th>\n",
       "      <td>2</td>\n",
       "      <td>1</td>\n",
       "      <td>530255</td>\n",
       "      <td>104</td>\n",
       "      <td></td>\n",
       "      <td></td>\n",
       "      <td>2</td>\n",
       "      <td>2</td>\n",
       "    </tr>\n",
       "  </tbody>\n",
       "</table>\n",
       "</div>"
      ],
      "text/plain": [
       "  Surgery  Age  Hospital number Pulse Pain Nasogastric tube Outcome  \\\n",
       "0       2    1           530101    66    5                        2   \n",
       "1       1    1           534817    88    3                        3   \n",
       "2       2    1           530334    40    3                        1   \n",
       "3       1    9          5290409   164    2                1       2   \n",
       "4       2    1           530255   104                             2   \n",
       "\n",
       "   Surgical lesion  \n",
       "0                2  \n",
       "1                2  \n",
       "2                2  \n",
       "3                1  \n",
       "4                2  "
      ]
     },
     "execution_count": 18,
     "metadata": {},
     "output_type": "execute_result"
    }
   ],
   "source": [
    "data = df[[0,1,2,4,10,13,22,23]].rename(columns={0: 'Surgery', 1: 'Age', 2: 'Hospital number', 4: 'Pulse', 10: 'Pain', 13: 'Nasogastric tube', 22: 'Outcome', 23: 'Surgical lesion' })\n",
    "data_nan = data.replace('?', '')\n",
    "data_nan.head()"
   ]
  },
  {
   "cell_type": "code",
   "execution_count": 19,
   "metadata": {},
   "outputs": [
    {
     "name": "stdout",
     "output_type": "stream",
     "text": [
      "<class 'pandas.core.frame.DataFrame'>\n",
      "RangeIndex: 300 entries, 0 to 299\n",
      "Data columns (total 8 columns):\n",
      " #   Column            Non-Null Count  Dtype  \n",
      "---  ------            --------------  -----  \n",
      " 0   Surgery           299 non-null    float64\n",
      " 1   Age               300 non-null    int64  \n",
      " 2   Hospital number   300 non-null    int64  \n",
      " 3   Pulse             276 non-null    float64\n",
      " 4   Pain              245 non-null    float64\n",
      " 5   Nasogastric tube  196 non-null    float64\n",
      " 6   Outcome           299 non-null    float64\n",
      " 7   Surgical lesion   300 non-null    int64  \n",
      "dtypes: float64(5), int64(3)\n",
      "memory usage: 18.9 KB\n"
     ]
    }
   ],
   "source": [
    "df_data = data_nan.apply(pd.to_numeric)\n",
    "df_data.info()"
   ]
  },
  {
   "cell_type": "code",
   "execution_count": 20,
   "metadata": {},
   "outputs": [
    {
     "data": {
      "text/html": [
       "<div>\n",
       "<style scoped>\n",
       "    .dataframe tbody tr th:only-of-type {\n",
       "        vertical-align: middle;\n",
       "    }\n",
       "\n",
       "    .dataframe tbody tr th {\n",
       "        vertical-align: top;\n",
       "    }\n",
       "\n",
       "    .dataframe thead th {\n",
       "        text-align: right;\n",
       "    }\n",
       "</style>\n",
       "<table border=\"1\" class=\"dataframe\">\n",
       "  <thead>\n",
       "    <tr style=\"text-align: right;\">\n",
       "      <th></th>\n",
       "      <th>Surgery</th>\n",
       "      <th>Age</th>\n",
       "      <th>Hospital number</th>\n",
       "      <th>Pulse</th>\n",
       "      <th>Pain</th>\n",
       "      <th>Nasogastric tube</th>\n",
       "      <th>Outcome</th>\n",
       "      <th>Surgical lesion</th>\n",
       "    </tr>\n",
       "  </thead>\n",
       "  <tbody>\n",
       "    <tr>\n",
       "      <th>count</th>\n",
       "      <td>299.000000</td>\n",
       "      <td>300.000000</td>\n",
       "      <td>3.000000e+02</td>\n",
       "      <td>276.000000</td>\n",
       "      <td>245.00000</td>\n",
       "      <td>196.000000</td>\n",
       "      <td>299.000000</td>\n",
       "      <td>300.000000</td>\n",
       "    </tr>\n",
       "    <tr>\n",
       "      <th>mean</th>\n",
       "      <td>1.397993</td>\n",
       "      <td>1.640000</td>\n",
       "      <td>1.085889e+06</td>\n",
       "      <td>71.913043</td>\n",
       "      <td>2.95102</td>\n",
       "      <td>1.755102</td>\n",
       "      <td>1.551839</td>\n",
       "      <td>1.363333</td>\n",
       "    </tr>\n",
       "    <tr>\n",
       "      <th>std</th>\n",
       "      <td>0.490305</td>\n",
       "      <td>2.173972</td>\n",
       "      <td>1.529801e+06</td>\n",
       "      <td>28.630557</td>\n",
       "      <td>1.30794</td>\n",
       "      <td>0.649437</td>\n",
       "      <td>0.737187</td>\n",
       "      <td>0.481763</td>\n",
       "    </tr>\n",
       "    <tr>\n",
       "      <th>min</th>\n",
       "      <td>1.000000</td>\n",
       "      <td>1.000000</td>\n",
       "      <td>5.184760e+05</td>\n",
       "      <td>30.000000</td>\n",
       "      <td>1.00000</td>\n",
       "      <td>1.000000</td>\n",
       "      <td>1.000000</td>\n",
       "      <td>1.000000</td>\n",
       "    </tr>\n",
       "    <tr>\n",
       "      <th>25%</th>\n",
       "      <td>1.000000</td>\n",
       "      <td>1.000000</td>\n",
       "      <td>5.289040e+05</td>\n",
       "      <td>48.000000</td>\n",
       "      <td>2.00000</td>\n",
       "      <td>1.000000</td>\n",
       "      <td>1.000000</td>\n",
       "      <td>1.000000</td>\n",
       "    </tr>\n",
       "    <tr>\n",
       "      <th>50%</th>\n",
       "      <td>1.000000</td>\n",
       "      <td>1.000000</td>\n",
       "      <td>5.303055e+05</td>\n",
       "      <td>64.000000</td>\n",
       "      <td>3.00000</td>\n",
       "      <td>2.000000</td>\n",
       "      <td>1.000000</td>\n",
       "      <td>1.000000</td>\n",
       "    </tr>\n",
       "    <tr>\n",
       "      <th>75%</th>\n",
       "      <td>2.000000</td>\n",
       "      <td>1.000000</td>\n",
       "      <td>5.347275e+05</td>\n",
       "      <td>88.000000</td>\n",
       "      <td>4.00000</td>\n",
       "      <td>2.000000</td>\n",
       "      <td>2.000000</td>\n",
       "      <td>2.000000</td>\n",
       "    </tr>\n",
       "    <tr>\n",
       "      <th>max</th>\n",
       "      <td>2.000000</td>\n",
       "      <td>9.000000</td>\n",
       "      <td>5.305629e+06</td>\n",
       "      <td>184.000000</td>\n",
       "      <td>5.00000</td>\n",
       "      <td>3.000000</td>\n",
       "      <td>3.000000</td>\n",
       "      <td>2.000000</td>\n",
       "    </tr>\n",
       "  </tbody>\n",
       "</table>\n",
       "</div>"
      ],
      "text/plain": [
       "          Surgery         Age  Hospital number       Pulse       Pain  \\\n",
       "count  299.000000  300.000000     3.000000e+02  276.000000  245.00000   \n",
       "mean     1.397993    1.640000     1.085889e+06   71.913043    2.95102   \n",
       "std      0.490305    2.173972     1.529801e+06   28.630557    1.30794   \n",
       "min      1.000000    1.000000     5.184760e+05   30.000000    1.00000   \n",
       "25%      1.000000    1.000000     5.289040e+05   48.000000    2.00000   \n",
       "50%      1.000000    1.000000     5.303055e+05   64.000000    3.00000   \n",
       "75%      2.000000    1.000000     5.347275e+05   88.000000    4.00000   \n",
       "max      2.000000    9.000000     5.305629e+06  184.000000    5.00000   \n",
       "\n",
       "       Nasogastric tube     Outcome  Surgical lesion  \n",
       "count        196.000000  299.000000       300.000000  \n",
       "mean           1.755102    1.551839         1.363333  \n",
       "std            0.649437    0.737187         0.481763  \n",
       "min            1.000000    1.000000         1.000000  \n",
       "25%            1.000000    1.000000         1.000000  \n",
       "50%            2.000000    1.000000         1.000000  \n",
       "75%            2.000000    2.000000         2.000000  \n",
       "max            3.000000    3.000000         2.000000  "
      ]
     },
     "execution_count": 20,
     "metadata": {},
     "output_type": "execute_result"
    }
   ],
   "source": [
    "df_data.describe()"
   ]
  },
  {
   "cell_type": "markdown",
   "metadata": {},
   "source": [
    "## Выводы\n",
    "\n",
    "1. Surgery - у более половины лошадесь имелись хирурнические вмешательства\n",
    "\n",
    "2. Age - в основном в выборке представлены взрослые лошади\n",
    "\n",
    "3. Hospital number - через статистику проходит достаточно большой объем лошадей, если принять за данность условия, что каждой лошади назначается уникальный номер\n",
    "\n",
    "4. Высокий пульч наблюдается в основном у лошадей, которые испытывают повышенные болевые ощущения, что делает лошадей неспокойными и подвижными, что так же может влиять на показания пульса\n",
    "\n",
    "5. Практически все лошади, испытывают неприятные\\боезненные ощущения из-за колитов\n",
    "\n",
    "6. Большинство лошадей отличается выраженным газообразованием, что говорит о том, что образующиеся газы внтури лошади вызывают болевые\\дискомфортные ощущения\n",
    "\n",
    "7. Большинство лошадей успешно излечились от данной проблемы, лишь небольшая часть умерла или была усыплена\n",
    "\n",
    "8. Согласно статистике, в большинстве случаев, проблема была решена хирургическим путём"
   ]
  },
  {
   "cell_type": "markdown",
   "metadata": {},
   "source": [
    "**Задание 2. Работа с выбросами**\n",
    "\n",
    "В выбранных числовых столбцах найти выбросы, выдвинуть гипотезы об их причинах и проинтерпретировать результаты. Принять и обосновать решение о дальнейшей работе с ними.\n"
   ]
  },
  {
   "cell_type": "code",
   "execution_count": 40,
   "metadata": {},
   "outputs": [
    {
     "data": {
      "text/plain": [
       "<AxesSubplot:>"
      ]
     },
     "execution_count": 40,
     "metadata": {},
     "output_type": "execute_result"
    },
    {
     "data": {
      "image/png": "[encoded data removed]",
      "text/plain": [
       "<Figure size 1080x360 with 1 Axes>"
      ]
     },
     "metadata": {
      "needs_background": "light"
     },
     "output_type": "display_data"
    }
   ],
   "source": [
    "plt.rcParams['figure.figsize'] = (15, 5)\n",
    "\n",
    "df_data.boxplot()"
   ]
  },
  {
   "cell_type": "code",
   "execution_count": 46,
   "metadata": {
    "scrolled": true
   },
   "outputs": [
    {
     "name": "stdout",
     "output_type": "stream",
     "text": [
      "Явный выброс есть в указании возраста животных, поскольку допустимы значения 1 или 2, где 1 это взрослые особи, 2 - возраст меньше 6 месяцев.\n",
      "Есть предположение, что это фактический возраст лошади равный 9 годам, т.е. категория №1.\n"
     ]
    },
    {
     "data": {
      "image/png": "[encoded data removed]",
      "text/plain": [
       "<Figure size 1080x360 with 1 Axes>"
      ]
     },
     "metadata": {
      "needs_background": "light"
     },
     "output_type": "display_data"
    }
   ],
   "source": [
    "# с помощью boxplot найдем явные выбросы\n",
    "df_data.boxplot(column='Age')\n",
    "\n",
    "print('Явный выброс есть в указании возраста животных, поскольку допустимы значения 1 или 2, где 1 это взрослые особи, 2 - возраст меньше 6 месяцев.\\nЕсть предположение, что указан фактический возраст лошади равный 9 годам, т.е. категория №1.')"
   ]
  },
  {
   "cell_type": "code",
   "execution_count": 58,
   "metadata": {
    "scrolled": true
   },
   "outputs": [
    {
     "name": "stdout",
     "output_type": "stream",
     "text": [
      "В показаниях пульса есть большой разброс значений, при этом большая часть выбросов, находится в верхней доле графика.\n",
      "Это может быть вызвано, как проверкой лошадей после тренировок\\скачек\\жругих активных занятий,\n",
      "так и с наиболее вероятным вариантом - \"критическое\" состояние лошади, из-за которого её пришлось усыпить, чтобы животное не мучилось. Поскольку в предыдущих данных, проводились эвтаназии для тяжело больных животных.\n"
     ]
    },
    {
     "data": {
      "image/png": "[encoded data removed]",
      "text/plain": [
       "<Figure size 1080x360 with 1 Axes>"
      ]
     },
     "metadata": {
      "needs_background": "light"
     },
     "output_type": "display_data"
    }
   ],
   "source": [
    "df_data.boxplot(column='Pulse')\n",
    "\n",
    "print('В показаниях пульса есть большой разброс значений, при этом большая часть выбросов, находится в верхней доле графика.\\nЭто может быть вызвано, как проверкой лошадей после тренировок\\скачек\\жругих активных занятий,\\nтак и с наиболее вероятным вариантом - \"критическое\" состояние лошади, из-за которого её пришлось усыпить, чтобы животное не мучилось. Поскольку в предыдущих данных, проводились эвтаназии для тяжело больных животных.')"
   ]
  },
  {
   "cell_type": "code",
   "execution_count": 61,
   "metadata": {
    "scrolled": true
   },
   "outputs": [
    {
     "data": {
      "text/plain": [
       "<AxesSubplot:>"
      ]
     },
     "execution_count": 61,
     "metadata": {},
     "output_type": "execute_result"
    },
    {
     "data": {
      "image/png": "[encoded data removed]",
      "text/plain": [
       "<Figure size 1080x360 with 1 Axes>"
      ]
     },
     "metadata": {
      "needs_background": "light"
     },
     "output_type": "display_data"
    }
   ],
   "source": [
    "# Как опция, очистим данные по пульсу от выбросов\n",
    "\n",
    "q1 = df_data['Pulse'].quantile(0.25)\n",
    "q3 = df_data['Pulse'].quantile(0.75)\n",
    "iqr = q3 - q1\n",
    "lower_bound = q1 - (1.5 * iqr) \n",
    "upper_bound = q3 + (1.5 * iqr)\n",
    "df_data = df_data[df_data['Pulse'].between(lower_bound, upper_bound, inclusive=True)]\n",
    "df_data.boxplot(column='Pulse')"
   ]
  },
  {
   "cell_type": "markdown",
   "metadata": {},
   "source": [
    "**Задание 3. Работа с пропусками**\n",
    "\n",
    "Рассчитать количество пропусков для всех выбранных столбцов. Принять и обосновать решение о методе работы с пропусками по каждому столбцу, сформировать датафрейм, в котором пропуски будут отсутствовать.\n"
   ]
  },
  {
   "cell_type": "code",
   "execution_count": 63,
   "metadata": {
    "scrolled": true
   },
   "outputs": [
    {
     "data": {
      "text/html": [
       "<div>\n",
       "<style scoped>\n",
       "    .dataframe tbody tr th:only-of-type {\n",
       "        vertical-align: middle;\n",
       "    }\n",
       "\n",
       "    .dataframe tbody tr th {\n",
       "        vertical-align: top;\n",
       "    }\n",
       "\n",
       "    .dataframe thead th {\n",
       "        text-align: right;\n",
       "    }\n",
       "</style>\n",
       "<table border=\"1\" class=\"dataframe\">\n",
       "  <thead>\n",
       "    <tr style=\"text-align: right;\">\n",
       "      <th></th>\n",
       "      <th>Surgery</th>\n",
       "      <th>Age</th>\n",
       "      <th>Hospital number</th>\n",
       "      <th>Pulse</th>\n",
       "      <th>Pain</th>\n",
       "      <th>Nasogastric tube</th>\n",
       "      <th>Outcome</th>\n",
       "      <th>Surgical lesion</th>\n",
       "    </tr>\n",
       "  </thead>\n",
       "  <tbody>\n",
       "    <tr>\n",
       "      <th>0</th>\n",
       "      <td>2.0</td>\n",
       "      <td>1</td>\n",
       "      <td>530101</td>\n",
       "      <td>66.0</td>\n",
       "      <td>5.0</td>\n",
       "      <td>NaN</td>\n",
       "      <td>2.0</td>\n",
       "      <td>2</td>\n",
       "    </tr>\n",
       "    <tr>\n",
       "      <th>1</th>\n",
       "      <td>1.0</td>\n",
       "      <td>1</td>\n",
       "      <td>534817</td>\n",
       "      <td>88.0</td>\n",
       "      <td>3.0</td>\n",
       "      <td>NaN</td>\n",
       "      <td>3.0</td>\n",
       "      <td>2</td>\n",
       "    </tr>\n",
       "    <tr>\n",
       "      <th>2</th>\n",
       "      <td>2.0</td>\n",
       "      <td>1</td>\n",
       "      <td>530334</td>\n",
       "      <td>40.0</td>\n",
       "      <td>3.0</td>\n",
       "      <td>NaN</td>\n",
       "      <td>1.0</td>\n",
       "      <td>2</td>\n",
       "    </tr>\n",
       "    <tr>\n",
       "      <th>4</th>\n",
       "      <td>2.0</td>\n",
       "      <td>1</td>\n",
       "      <td>530255</td>\n",
       "      <td>104.0</td>\n",
       "      <td>NaN</td>\n",
       "      <td>NaN</td>\n",
       "      <td>2.0</td>\n",
       "      <td>2</td>\n",
       "    </tr>\n",
       "    <tr>\n",
       "      <th>6</th>\n",
       "      <td>1.0</td>\n",
       "      <td>1</td>\n",
       "      <td>526802</td>\n",
       "      <td>48.0</td>\n",
       "      <td>3.0</td>\n",
       "      <td>1.0</td>\n",
       "      <td>1.0</td>\n",
       "      <td>1</td>\n",
       "    </tr>\n",
       "  </tbody>\n",
       "</table>\n",
       "</div>"
      ],
      "text/plain": [
       "   Surgery  Age  Hospital number  Pulse  Pain  Nasogastric tube  Outcome  \\\n",
       "0      2.0    1           530101   66.0   5.0               NaN      2.0   \n",
       "1      1.0    1           534817   88.0   3.0               NaN      3.0   \n",
       "2      2.0    1           530334   40.0   3.0               NaN      1.0   \n",
       "4      2.0    1           530255  104.0   NaN               NaN      2.0   \n",
       "6      1.0    1           526802   48.0   3.0               1.0      1.0   \n",
       "\n",
       "   Surgical lesion  \n",
       "0                2  \n",
       "1                2  \n",
       "2                2  \n",
       "4                2  \n",
       "6                1  "
      ]
     },
     "execution_count": 63,
     "metadata": {},
     "output_type": "execute_result"
    }
   ],
   "source": [
    "df_data.head()"
   ]
  },
  {
   "cell_type": "code",
   "execution_count": 68,
   "metadata": {},
   "outputs": [
    {
     "name": "stdout",
     "output_type": "stream",
     "text": [
      "Surgery - 0.4%\n",
      "Age - 0.0%\n",
      "Hospital number - 0.0%\n",
      "Pulse - 0.0%\n",
      "Pain - 17.0%\n",
      "Nasogastric tube - 32.8%\n",
      "Outcome - 0.4%\n",
      "Surgical lesion - 0.0%\n",
      "Мы видим, что наибольшее количество пропусков имеется в двух столбцах - Pain и Nasogastric tube.\n",
      "В остальных столбцах отклонение не превышает 0.5%, что не является для нас статистически значимым,\n",
      "и не влияет на общую картину.\n"
     ]
    }
   ],
   "source": [
    "for i in df_data.columns:\n",
    "    pct_missing = df_data[i].isnull().mean()\n",
    "    print(f'{i} - {pct_missing :.1%}')\n",
    "    \n",
    "print('Мы видим, что наибольшее количество пропусков имеется в двух столбцах - Pain и Nasogastric tube.\\nВ остальных столбцах отклонение не превышает 0.5%, что не является для нас статистически значимым,\\nи не влияет на общую картину.')"
   ]
  },
  {
   "cell_type": "code",
   "execution_count": 79,
   "metadata": {},
   "outputs": [
    {
     "name": "stdout",
     "output_type": "stream",
     "text": [
      "70.25830258302582\n",
      "64.0\n",
      "48.0\n",
      "1.7527472527472527\n",
      "2.0\n",
      "2.0\n"
     ]
    }
   ],
   "source": [
    "df_replace = df_data\n",
    "print(df_replace['Pulse'].mean())\n",
    "print(df_replace['Pulse'].median())\n",
    "print(df_replace['Pulse'].mode()[0])\n",
    "\n",
    "print(df_replace['Nasogastric tube'].mean())\n",
    "print(df_replace['Nasogastric tube'].median())\n",
    "print(df_replace['Nasogastric tube'].mode()[0])"
   ]
  },
  {
   "cell_type": "code",
   "execution_count": 85,
   "metadata": {},
   "outputs": [
    {
     "data": {
      "text/html": [
       "<div>\n",
       "<style scoped>\n",
       "    .dataframe tbody tr th:only-of-type {\n",
       "        vertical-align: middle;\n",
       "    }\n",
       "\n",
       "    .dataframe tbody tr th {\n",
       "        vertical-align: top;\n",
       "    }\n",
       "\n",
       "    .dataframe thead th {\n",
       "        text-align: right;\n",
       "    }\n",
       "</style>\n",
       "<table border=\"1\" class=\"dataframe\">\n",
       "  <thead>\n",
       "    <tr style=\"text-align: right;\">\n",
       "      <th></th>\n",
       "      <th>Surgery</th>\n",
       "      <th>Age</th>\n",
       "      <th>Hospital number</th>\n",
       "      <th>Pulse</th>\n",
       "      <th>Pain</th>\n",
       "      <th>Nasogastric tube</th>\n",
       "      <th>Outcome</th>\n",
       "      <th>Surgical lesion</th>\n",
       "    </tr>\n",
       "  </thead>\n",
       "  <tbody>\n",
       "    <tr>\n",
       "      <th>0</th>\n",
       "      <td>2.0</td>\n",
       "      <td>1</td>\n",
       "      <td>530101</td>\n",
       "      <td>66.0</td>\n",
       "      <td>5.000000</td>\n",
       "      <td>2.0</td>\n",
       "      <td>2.0</td>\n",
       "      <td>2</td>\n",
       "    </tr>\n",
       "    <tr>\n",
       "      <th>1</th>\n",
       "      <td>1.0</td>\n",
       "      <td>1</td>\n",
       "      <td>534817</td>\n",
       "      <td>88.0</td>\n",
       "      <td>3.000000</td>\n",
       "      <td>2.0</td>\n",
       "      <td>3.0</td>\n",
       "      <td>2</td>\n",
       "    </tr>\n",
       "    <tr>\n",
       "      <th>2</th>\n",
       "      <td>2.0</td>\n",
       "      <td>1</td>\n",
       "      <td>530334</td>\n",
       "      <td>40.0</td>\n",
       "      <td>3.000000</td>\n",
       "      <td>2.0</td>\n",
       "      <td>1.0</td>\n",
       "      <td>2</td>\n",
       "    </tr>\n",
       "    <tr>\n",
       "      <th>4</th>\n",
       "      <td>2.0</td>\n",
       "      <td>1</td>\n",
       "      <td>530255</td>\n",
       "      <td>104.0</td>\n",
       "      <td>2.875556</td>\n",
       "      <td>2.0</td>\n",
       "      <td>2.0</td>\n",
       "      <td>2</td>\n",
       "    </tr>\n",
       "    <tr>\n",
       "      <th>6</th>\n",
       "      <td>1.0</td>\n",
       "      <td>1</td>\n",
       "      <td>526802</td>\n",
       "      <td>48.0</td>\n",
       "      <td>3.000000</td>\n",
       "      <td>1.0</td>\n",
       "      <td>1.0</td>\n",
       "      <td>1</td>\n",
       "    </tr>\n",
       "    <tr>\n",
       "      <th>7</th>\n",
       "      <td>1.0</td>\n",
       "      <td>1</td>\n",
       "      <td>529607</td>\n",
       "      <td>60.0</td>\n",
       "      <td>2.875556</td>\n",
       "      <td>2.0</td>\n",
       "      <td>2.0</td>\n",
       "      <td>1</td>\n",
       "    </tr>\n",
       "    <tr>\n",
       "      <th>8</th>\n",
       "      <td>2.0</td>\n",
       "      <td>1</td>\n",
       "      <td>530051</td>\n",
       "      <td>80.0</td>\n",
       "      <td>4.000000</td>\n",
       "      <td>2.0</td>\n",
       "      <td>3.0</td>\n",
       "      <td>1</td>\n",
       "    </tr>\n",
       "    <tr>\n",
       "      <th>9</th>\n",
       "      <td>2.0</td>\n",
       "      <td>9</td>\n",
       "      <td>5299629</td>\n",
       "      <td>90.0</td>\n",
       "      <td>5.000000</td>\n",
       "      <td>2.0</td>\n",
       "      <td>1.0</td>\n",
       "      <td>2</td>\n",
       "    </tr>\n",
       "    <tr>\n",
       "      <th>10</th>\n",
       "      <td>1.0</td>\n",
       "      <td>1</td>\n",
       "      <td>528548</td>\n",
       "      <td>66.0</td>\n",
       "      <td>3.000000</td>\n",
       "      <td>2.0</td>\n",
       "      <td>1.0</td>\n",
       "      <td>1</td>\n",
       "    </tr>\n",
       "    <tr>\n",
       "      <th>11</th>\n",
       "      <td>2.0</td>\n",
       "      <td>1</td>\n",
       "      <td>527927</td>\n",
       "      <td>72.0</td>\n",
       "      <td>2.000000</td>\n",
       "      <td>1.0</td>\n",
       "      <td>1.0</td>\n",
       "      <td>1</td>\n",
       "    </tr>\n",
       "  </tbody>\n",
       "</table>\n",
       "</div>"
      ],
      "text/plain": [
       "    Surgery  Age  Hospital number  Pulse      Pain  Nasogastric tube  Outcome  \\\n",
       "0       2.0    1           530101   66.0  5.000000               2.0      2.0   \n",
       "1       1.0    1           534817   88.0  3.000000               2.0      3.0   \n",
       "2       2.0    1           530334   40.0  3.000000               2.0      1.0   \n",
       "4       2.0    1           530255  104.0  2.875556               2.0      2.0   \n",
       "6       1.0    1           526802   48.0  3.000000               1.0      1.0   \n",
       "7       1.0    1           529607   60.0  2.875556               2.0      2.0   \n",
       "8       2.0    1           530051   80.0  4.000000               2.0      3.0   \n",
       "9       2.0    9          5299629   90.0  5.000000               2.0      1.0   \n",
       "10      1.0    1           528548   66.0  3.000000               2.0      1.0   \n",
       "11      2.0    1           527927   72.0  2.000000               1.0      1.0   \n",
       "\n",
       "    Surgical lesion  \n",
       "0                 2  \n",
       "1                 2  \n",
       "2                 2  \n",
       "4                 2  \n",
       "6                 1  \n",
       "7                 1  \n",
       "8                 1  \n",
       "9                 2  \n",
       "10                1  \n",
       "11                1  "
      ]
     },
     "execution_count": 85,
     "metadata": {},
     "output_type": "execute_result"
    }
   ],
   "source": [
    "df_replace['Pulse'].fillna(df_data['Pulse'].median(), inplace=True)\n",
    "df_replace['Nasogastric tube'].fillna(df_data['Nasogastric tube'].median(), inplace=True)\n",
    "df_replace = df_replace.dropna()\n",
    "df_replace.head(10)"
   ]
  },
  {
   "cell_type": "code",
   "execution_count": 86,
   "metadata": {},
   "outputs": [
    {
     "name": "stdout",
     "output_type": "stream",
     "text": [
      "Неизвестные значения по пульсу заполняем из медианного значения, поскольку половниа значений будет находится выше, другая ниже данного значения, и в условия недостатка данных, этот показатель не будет перевешивать общую модель в ту или иную сторону.\n"
     ]
    }
   ],
   "source": [
    "print('Неизвестные значения по пульсу заполняем из медианного значения, поскольку половниа значений будет находится выше, другая ниже данного значения, и в условия недостатка данных, этот показатель не будет перевешивать общую модель в ту или иную сторону.')"
   ]
  },
  {
   "cell_type": "code",
   "execution_count": 82,
   "metadata": {},
   "outputs": [
    {
     "name": "stdout",
     "output_type": "stream",
     "text": [
      "Surgery - 0.0%\n",
      "Age - 0.0%\n",
      "Hospital number - 0.0%\n",
      "Pulse - 0.0%\n",
      "Pain - 0.0%\n",
      "Nasogastric tube - 0.0%\n",
      "Outcome - 0.0%\n",
      "Surgical lesion - 0.0%\n"
     ]
    }
   ],
   "source": [
    "for i in df_replace.columns:\n",
    "    pct_missing = df_replace[i].isnull().mean()\n",
    "    print(f'{i} - {pct_missing :.1%}')   "
   ]
  },
  {
   "cell_type": "code",
   "execution_count": null,
   "metadata": {},
   "outputs": [],
   "source": []
  }
 ],
 "metadata": {
  "kernelspec": {
   "display_name": "Python 3",
   "language": "python",
   "name": "python3"
  },
  "language_info": {
   "codemirror_mode": {
    "name": "ipython",
    "version": 3
   },
   "file_extension": ".py",
   "mimetype": "text/x-python",
   "name": "python",
   "nbconvert_exporter": "python",
   "pygments_lexer": "ipython3",
   "version": "3.7.9"
  }
 },
 "nbformat": 4,
 "nbformat_minor": 4
}

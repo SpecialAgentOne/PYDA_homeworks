{
 "cells": [
  {
   "cell_type": "markdown",
   "metadata": {},
   "source": [
    "Вы работаете секретарем и вам постоянно приходят различные документы. Вы должны быть очень внимательны, чтобы не потерять ни один документ. Каталог документов хранится в следующем виде:"
   ]
  },
  {
   "cell_type": "code",
   "execution_count": 4,
   "metadata": {},
   "outputs": [],
   "source": [
    "documents = [\n",
    "    {'type': 'passport', 'number': '2207 876234', 'name': 'Василий Гупкин'},\n",
    "    {'type': 'invoice', 'number': '11-2', 'name': 'Геннадий Покемонов'},\n",
    "    {'type': 'insurance', 'number': '10006', 'name': 'Аристарх Павлов'}\n",
    "]"
   ]
  },
  {
   "cell_type": "markdown",
   "metadata": {},
   "source": [
    "Перечень полок, на которых находятся документы хранится в следующем виде:"
   ]
  },
  {
   "cell_type": "code",
   "execution_count": 5,
   "metadata": {},
   "outputs": [],
   "source": [
    "directories = {\n",
    "    '1': ['2207 876234', '11-2'],\n",
    "    '2': ['10006'],\n",
    "    '3': []\n",
    "}"
   ]
  },
  {
   "cell_type": "markdown",
   "metadata": {},
   "source": [
    "Необходимо реализовать пользовательские команды (внимание! это не название функций, которые должны быть выразительными, а команды, которые вводит пользователь, чтобы получить необходимый результат):\n",
    "  \n",
    "- p – people – команда, которая спросит номер документа и выведет имя человека, которому он принадлежит;  \n",
    "- s – shelf – команда, которая спросит номер документа и выведет номер полки, на которой он находится  \n",
    "*Правильно обработайте ситуации, когда пользователь будет вводить несуществующий документ*.\n",
    "- l – list – команда, которая выведет список всех документов в формате   \n",
    "**passport \"2207 876234\" \"Василий Гупкин\"**  \n",
    "- as – add shelf – команда, которая спросит номер новой полки и добавит ее в перечень. *Предусмотрите случай, когда пользователь добавляет полку, которая уже существует*.\n",
    "- d – delete – команда, которая спросит номер документа и удалит его из каталога и из перечня полок. *Предусмотрите сценарий, когда пользователь вводит несуществующий документ*;  \n",
    "- m – move – команда, которая спросит номер документа и целевую полку и переместит его с текущей полки на целевую. *Корректно обработайте кейсы, когда пользователь пытается переместить несуществующий документ или переместить документ на несуществующую полку*;  \n",
    "- a – add – команда, которая добавит новый документ в каталог и в перечень полок, спросив его номер, тип, имя владельца и номер полки, на котором он будет храниться. *Корректно обработайте ситуацию, когда пользователь будет пытаться добавить документ на несуществующую полку*."
   ]
  },
  {
   "cell_type": "code",
   "execution_count": 12,
   "metadata": {},
   "outputs": [
    {
     "name": "stdout",
     "output_type": "stream",
     "text": [
      "Пожалуйста введите команду, вывести список всех команд - введите \"full\" p\n",
      "Введите номер документа: 10006\n",
      "Аристарх Павлов\n"
     ]
    }
   ],
   "source": [
    "#Блок данных\n",
    "\n",
    "documents = [\n",
    "    {'type': 'passport', 'number': '2207 876234', 'name': 'Василий Гупкин'},\n",
    "    {'type': 'invoice', 'number': '11-2', 'name': 'Геннадий Покемонов'},\n",
    "    {'type': 'insurance', 'number': '10006', 'name': 'Аристарх Павлов'}\n",
    "]\n",
    "\n",
    "directories = {\n",
    "    '1': ['2207 876234', '11-2'],\n",
    "    '2': ['10006'],\n",
    "    '3': []\n",
    "}\n",
    "\n",
    "#Базовые переменные\n",
    "\n",
    "full = (' p – поиск человека по номеру документа\\n s – поиск номера полки по номеру документа\\n l – вывод всех документов в каталоге\\n as – добавление новой полки\\n d – удаление документа по его номеру\\n m – перемещение документа на другую полку\\n a – добавление нового документа в каталог')\n",
    "err = (' Данные не найдены, повторите поиск')\n",
    "\n",
    "# Поиск ФИО по номеру документа\n",
    "\n",
    "def people(doc_number):\n",
    "    for doc_num in documents:\n",
    "        if doc_num[str('number')] == doc_number:\n",
    "            result = doc_num['name'] \n",
    "        else: \n",
    "            result = err \n",
    "    return result\n",
    "\n",
    "# Поиск номера полки по номеру документа\n",
    "\n",
    "def shelf(doc_number):\n",
    "#Через цикл \"for\" перебор пары ключ-значение из списка предметов в словаре\n",
    "    for key, values in directories.items():\n",
    "        for i in values:\n",
    "            if doc_number == i:\n",
    "                result = key\n",
    "            else:\n",
    "                result = err\n",
    "    return result\n",
    "\n",
    "#Вывод всех документов\n",
    "\n",
    "def list_all(documents): \n",
    "    for i in documents: \n",
    "        result = print(i['type'], i['number'], i['name']) \n",
    "    return result\n",
    "\n",
    "#Блок пользовательского ввода\n",
    "\n",
    "action = input('Пожалуйста введите команду, вывести список всех команд - введите \"full\" ')\n",
    "\n",
    "if action == 'full':\n",
    "    print(all)\n",
    "elif action == 'p':\n",
    "    print(people(input(str('Введите номер документа: '))))\n",
    "elif action == 's':\n",
    "    print(shelf(input('Введите номер документа: ')))\n",
    "elif action == 'l':\n",
    "    print(list_all(documents))\n",
    "elif action == 'as':\n",
    "    print('as')\n",
    "elif action == 'd':\n",
    "    print('d')\n",
    "elif action == 'm':\n",
    "    print('m')\n",
    "elif action == 'a':\n",
    "    print('a')\n",
    "else: print('Неверная команда, список всех команд доступен через команду \"all \"')\n"
   ]
  },
  {
   "cell_type": "code",
   "execution_count": 10,
   "metadata": {},
   "outputs": [],
   "source": []
  },
  {
   "cell_type": "code",
   "execution_count": 11,
   "metadata": {},
   "outputs": [],
   "source": []
  },
  {
   "cell_type": "code",
   "execution_count": 12,
   "metadata": {},
   "outputs": [],
   "source": []
  },
  {
   "cell_type": "code",
   "execution_count": 13,
   "metadata": {},
   "outputs": [],
   "source": []
  },
  {
   "cell_type": "code",
   "execution_count": 14,
   "metadata": {},
   "outputs": [],
   "source": []
  },
  {
   "cell_type": "markdown",
   "metadata": {},
   "source": [
    "# Блок данных \n",
    "documents = [\n",
    "    {'type': 'passport', 'number': '2207 876234', 'name': 'Василий Гупкин'},\n",
    "    {'type': 'invoice', 'number': '11-2', 'name': 'Геннадий Покемонов'},\n",
    "    {'type': 'insurance', 'number': '10006', 'name': 'Аристарх Павлов'}\n",
    "]\n",
    "\n",
    "directories = {\n",
    "    '1': ['2207 876234', '11-2'],\n",
    "    '2': ['10006'],\n",
    "    '3': []\n",
    "}\n",
    "\n",
    "\n",
    "# Базовые переменные\n",
    "full = (' p – поиск человека по номеру документа\\n s – поиск номера полки по номеру документа\\n l – вывод всех документов в каталоге\\n as – добавление новой полки\\n d – удаление документа по его номеру\\n m – перемещение документа на другую полку\\n a – добавление нового документа в каталог')\n",
    "err = (' Данные не найдены, повторите поиск')\n",
    "\n",
    "# Поиск ФИО по номеру документа\n",
    "def people(doc_number):\n",
    "    for doc_num in documents:\n",
    "        if doc_num['number'] == doc_number:\n",
    "            result = doc_num['name']\n",
    "        else:\n",
    "            result = err\n",
    "    return result\n",
    "    \n",
    "# Поиск номера полки по номеру документа\n",
    "def shelf(doc_number):\n",
    "# Через цикл \"for\" перебор пары ключ-значение из списка предметов в словаре\n",
    "    for key, values in directories.items():\n",
    "        for i in values:\n",
    "            if doc_number == i:\n",
    "                result = key\n",
    "            else:\n",
    "                result = err\n",
    "    return result\n",
    "\n",
    "# Вывод всех документов\n",
    "def list_all(documents):\n",
    "    for i in documents:\n",
    "        result = print(i['type'], i['number'], i['name'])\n",
    "    return result\n",
    "\n",
    "# Блок пользовательского ввода\n",
    "action = input('Пожалуйста введите команду, вывести список всех команд - введите  \"full\" ')\n",
    "\n",
    "if action == 'full':\n",
    "    print(all)\n",
    "elif action == 'p':\n",
    "    print(people(input(str('Введите номер документа: '))))\n",
    "elif action == 's':\n",
    "    print(shelf(input('Введите номер документа: ')))\n",
    "elif action == 'l':\n",
    "    print(list_all(documents))\n",
    "elif action == 'as':\n",
    "    print('as')\n",
    "elif action == 'd':\n",
    "    print('d')\n",
    "elif action == 'm':\n",
    "    print('m')\n",
    "elif action == 'a':\n",
    "    print('a')\n",
    "else:\n",
    "    print('Неверная команда, список всех команд доступен через команду \"all \"')"
   ]
  },
  {
   "cell_type": "code",
   "execution_count": 20,
   "metadata": {},
   "outputs": [],
   "source": [
    "documents = [\n",
    "    {'type': 'passport', 'number': '2207 876234', 'name': 'Василий Гупкин'},\n",
    "    {'type': 'invoice', 'number': '11-2', 'name': 'Геннадий Покемонов'},\n",
    "    {'type': 'insurance', 'number': '10006', 'name': 'Аристарх Павлов'}\n",
    "]\n"
   ]
  }
 ],
 "metadata": {
  "celltoolbar": "Raw Cell Format",
  "kernelspec": {
   "display_name": "Python 3",
   "language": "python",
   "name": "python3"
  },
  "language_info": {
   "codemirror_mode": {
    "name": "ipython",
    "version": 3
   },
   "file_extension": ".py",
   "mimetype": "text/x-python",
   "name": "python",
   "nbconvert_exporter": "python",
   "pygments_lexer": "ipython3",
   "version": "3.7.6"
  }
 },
 "nbformat": 4,
 "nbformat_minor": 2
}

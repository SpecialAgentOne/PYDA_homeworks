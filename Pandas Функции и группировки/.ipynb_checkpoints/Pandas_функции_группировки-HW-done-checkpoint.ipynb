{
 "cells": [
  {
   "cell_type": "markdown",
   "metadata": {},
   "source": [
    "# Домашнее задание к лекции."
   ]
  },
  {
   "cell_type": "markdown",
   "metadata": {},
   "source": [
    "### Задание 1\n",
    "Напишите функцию, которая классифицирует фильмы из материалов занятия по следующим правилам:\n",
    "  - оценка 2 и меньше - низкий рейтинг\n",
    "  - оценка 4 и меньше - средний рейтинг\n",
    "  - оценка 4.5 и 5 - высокий рейтинг\n",
    "\n",
    "Результат классификации запишите в столбец class"
   ]
  },
  {
   "cell_type": "code",
   "execution_count": 6,
   "metadata": {},
   "outputs": [
    {
     "name": "stdout",
     "output_type": "stream",
     "text": [
      "   userId  movieId  rating  timestamp            class\n",
      "0       1        1     4.0  964982703  средний рейтинг\n",
      "1       1        3     4.0  964981247  средний рейтинг\n",
      "2       1        6     4.0  964982224  средний рейтинг\n",
      "3       1       47     5.0  964983815  высокий рейтинг\n",
      "4       1       50     5.0  964982931  высокий рейтинг\n"
     ]
    }
   ],
   "source": [
    "import pandas as pd\n",
    "\n",
    "# читаем файл с рейтингами\n",
    "movies = pd.read_csv('ml-latest-small/ratings.csv')\n",
    "#print(movies)\n",
    "\n",
    "# отбор фильма по рейтингу, согласно условию\n",
    "def rate(movie):\n",
    "    if movie['rating'] <= 2:\n",
    "        return \"низкий рейтинг\"\n",
    "    elif movie['rating'] <= 4.4: # выставил 4.4 как значение отсечки, чтобы считало все фильмы меньше 4.5 и 5\n",
    "        return \"средний рейтинг\"\n",
    "    else:\n",
    "        return \"высокий рейтинг\"\n",
    "\n",
    "#rate\n",
    "\n",
    "# добавляю столбец \"class\"\n",
    "movies['class'] = movies.apply(rate, axis = 1)\n",
    "#print(movies)\n",
    "print(movies.head())"
   ]
  },
  {
   "cell_type": "markdown",
   "metadata": {},
   "source": [
    "### Задание 2\n",
    "Используем файл keywords.csv.\n",
    "\n",
    "Необходимо написать гео-классификатор, который каждой строке сможет выставить географическую принадлежность определенному региону. Т. е. если поисковый запрос содержит название города региона, то в столбце 'region' пишется название этого региона. Если поисковый запрос не содержит названия города, то ставим 'undefined'.\n",
    "\n",
    "Правила распределения по регионам Центр, Северо-Запад и Дальний Восток:\n",
    "\n",
    "geo_data = {\n",
    "\n",
    "    'Центр': ['москва', 'тула', 'ярославль'],\n",
    "\n",
    "    'Северо-Запад': ['петербург', 'псков', 'мурманск'],\n",
    "\n",
    "    'Дальний Восток': ['владивосток', 'сахалин', 'хабаровск']\n",
    "\n",
    "}\n",
    "\n",
    "Результат классификации запишите в отдельный столбец region."
   ]
  },
  {
   "cell_type": "code",
   "execution_count": 26,
   "metadata": {},
   "outputs": [
    {
     "name": "stdout",
     "output_type": "stream",
     "text": [
      "         keyword     shows     region\n",
      "0             вк  64292779  undefined\n",
      "1  одноклассники  63810309  undefined\n",
      "2          порно  41747114  undefined\n",
      "3           ютуб  39995567  undefined\n",
      "4      вконтакте  21014195  undefined\n"
     ]
    }
   ],
   "source": [
    "import pandas as pd\n",
    "\n",
    "error = 'undefined'\n",
    "data = pd.read_csv('keywords.csv')\n",
    "\n",
    "geo_data = {\n",
    "'Центр': ['москва', 'тула', 'ярославль'],\n",
    "'Северо-Запад': ['петербург', 'псков', 'мурманск'],\n",
    "'Дальний Восток': ['владивосток', 'сахалин', 'хабаровск']\n",
    "}\n",
    "\n",
    "def geo_class(region):\n",
    "    for key, value in geo_data.items():\n",
    "        for city in value:\n",
    "            if city in region:\n",
    "                return key\n",
    "    return error\n",
    "\n",
    "data['region'] = data['keyword'].apply(geo_class)\n",
    "#print(data)\n",
    "print (data.head())"
   ]
  },
  {
   "cell_type": "markdown",
   "metadata": {},
   "source": [
    "### Задание 3 (бонусное)\n",
    "\n",
    "Есть мнение, что \"раньше снимали настоящее кино, не то что сейчас\". Ваша задача проверить это утверждение, используя файлы с рейтингами фильмов из прошлого домашнего занятия (файл ratings.csv из базы https://grouplens.org/datasets/movielens). Т. е. проверить верно ли, что с ростом года выпуска фильма его средний рейтинг становится ниже.\n",
    "\n",
    "При этом мы не будем затрагивать субьективные факторы выставления этих рейтингов, а пройдемся по следующему алгоритму:\n",
    "\n",
    "1. В переменную years запишите список из всех годов с 1950 по 2010.\n",
    "\n",
    "2. Напишите функцию production_year, которая каждой строке из названия фильма выставляет год выпуска. Не все названия фильмов содержат год выпуска в одинаковом формате, поэтому используйте следующий алгоритм:\n",
    "  - для каждой строки пройдите по всем годам списка years\n",
    "  - если номер года присутствует в названии фильма, то функция возвращает этот год как год выпуска\n",
    "  - если ни один из номеров года списка years не встретился в названии фильма, то возвращается 1900 год\n",
    "\n",
    "3. Запишите год выпуска фильма по алгоритму пункта 2 в новый столбец 'year'\n",
    "\n",
    "4. Посчитайте средний рейтинг всех фильмов для каждого значения столбца 'year' и отсортируйте результат по убыванию рейтинга"
   ]
  },
  {
   "cell_type": "code",
   "execution_count": 15,
   "metadata": {},
   "outputs": [
    {
     "name": "stdout",
     "output_type": "stream",
     "text": [
      "Рейтинги фильмов\n",
      "         userId  movieId  rating   timestamp                           title  \\\n",
      "0            1        1     4.0   964982703                Toy Story (1995)   \n",
      "1            1        3     4.0   964981247         Grumpier Old Men (1995)   \n",
      "2            1        6     4.0   964982224                     Heat (1995)   \n",
      "3            1       47     5.0   964983815     Seven (a.k.a. Se7en) (1995)   \n",
      "4            1       50     5.0   964982931      Usual Suspects, The (1995)   \n",
      "...        ...      ...     ...         ...                             ...   \n",
      "100831     610   166534     4.0  1493848402                    Split (2017)   \n",
      "100832     610   168248     5.0  1493850091   John Wick: Chapter Two (2017)   \n",
      "100833     610   168250     5.0  1494273047                  Get Out (2017)   \n",
      "100834     610   168252     5.0  1493846352                    Logan (2017)   \n",
      "100835     610   170875     3.0  1493846415  The Fate of the Furious (2017)   \n",
      "\n",
      "        year  \n",
      "0       1995  \n",
      "1       1995  \n",
      "2       1995  \n",
      "3       1995  \n",
      "4       1995  \n",
      "...      ...  \n",
      "100831  2017  \n",
      "100832  2017  \n",
      "100833  2017  \n",
      "100834  2017  \n",
      "100835  2017  \n",
      "\n",
      "[100836 rows x 6 columns]\n",
      "Рейтинг для каждого года\n",
      " 1995    6144\n",
      "1994    5296\n",
      "1999    4536\n",
      "1996    4509\n",
      "2000    4269\n",
      "        ... \n",
      "1950     161\n",
      "1953     153\n",
      "1956     115\n",
      "1952      96\n",
      "2018      91\n",
      "Name: year, Length: 70, dtype: int64\n",
      "Средний рейтинг с сортировкой\n",
      " year\n",
      "1957    4.039535\n",
      "1954    4.009191\n",
      "1962    3.969466\n",
      "1952    3.953125\n",
      "1972    3.944293\n",
      "          ...   \n",
      "2016    3.387261\n",
      "2005    3.359976\n",
      "1992    3.353555\n",
      "1997    3.347241\n",
      "1996    3.335329\n",
      "Name: rating, Length: 70, dtype: float64\n"
     ]
    }
   ],
   "source": [
    "import pandas as pd\n",
    "\n",
    "error = '1900'\n",
    "\n",
    "movies = pd.read_csv('ml-latest-small/movies.csv')\n",
    "# print(movies.head())\n",
    "ratings = pd.read_csv('ml-latest-small/ratings.csv')\n",
    "# print(ratings.head())\n",
    "rating_movies = ratings.merge(movies[['movieId','title']], on='movieId', how='left')\n",
    "# print(ratings_names.head())\n",
    "\n",
    "# выбор диапазона по условию с 1950 по 2019 годы согласно 1 пункту задания\n",
    "years = [i for i in range(1950,2019)]\n",
    "#print(years)\n",
    "\n",
    "def production_year(data):\n",
    "    for year in years:\n",
    "        if str(year) in data:\n",
    "            return year\n",
    "    return error\n",
    "\n",
    "rating_movies['year'] = rating_movies['title'].apply(production_year)\n",
    "\n",
    "count = rating_movies['year'].value_counts()\n",
    "\n",
    "avg = rating_movies.groupby('year').rating.mean().sort_values(ascending=False)\n",
    "\n",
    "print('Рейтинги фильмов\\n', rating_movies)\n",
    "print('Рейтинг для каждого года\\n', count)\n",
    "print('Средний рейтинг с сортировкой\\n', avg)\n",
    "\n",
    "\n",
    "\n",
    "#movies_ratings = ratings.merge(movies, on='movieId', how='left')\n",
    "#movies_ratings.head()\n",
    "#years = [i for i in range(1950,2019)]\n",
    "#print(years)\n",
    "#def film_year(row):\n",
    "#    for i in years:\n",
    "#        if str(i) in row:\n",
    "#            return i\n",
    "#    return '1900'\n",
    "#movies_ratings['year'] = movies_ratings['title'].apply(film_year)\n",
    "#movies_ratings\n",
    "#movies_ratings['year'].value_counts()\n",
    "#movies_ratings.groupby('year').rating.mean().sort_values(ascending=False)"
   ]
  }
 ],
 "metadata": {
  "kernelspec": {
   "display_name": "Python 3",
   "language": "python",
   "name": "python3"
  },
  "language_info": {
   "codemirror_mode": {
    "name": "ipython",
    "version": 3
   },
   "file_extension": ".py",
   "mimetype": "text/x-python",
   "name": "python",
   "nbconvert_exporter": "python",
   "pygments_lexer": "ipython3",
   "version": "3.7.6"
  }
 },
 "nbformat": 4,
 "nbformat_minor": 4
}

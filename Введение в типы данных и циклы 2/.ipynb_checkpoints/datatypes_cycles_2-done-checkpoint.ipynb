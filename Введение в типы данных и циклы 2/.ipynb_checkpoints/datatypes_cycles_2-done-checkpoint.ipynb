{
 "cells": [
  {
   "cell_type": "markdown",
   "metadata": {},
   "source": [
    "**Задание 1**. Дан список с визитами по городам и странам. \n",
    "Напишите код, который возвращает отфильтрованный список geo_logs, содержащий только визиты из России."
   ]
  },
  {
   "cell_type": "code",
   "execution_count": 87,
   "metadata": {},
   "outputs": [
    {
     "name": "stdout",
     "output_type": "stream",
     "text": [
      "{'visit1': ['Москва', 'Россия']}\n",
      "{'visit3': ['Владимир', 'Россия']}\n",
      "{'visit7': ['Тула', 'Россия']}\n",
      "{'visit8': ['Тула', 'Россия']}\n",
      "{'visit9': ['Курск', 'Россия']}\n",
      "{'visit10': ['Архангельск', 'Россия']}\n"
     ]
    }
   ],
   "source": [
    "geo_logs = [\n",
    "    {'visit1': ['Москва', 'Россия']},\n",
    "    {'visit2': ['Дели', 'Индия']},\n",
    "    {'visit3': ['Владимир', 'Россия']},\n",
    "    {'visit4': ['Лиссабон', 'Португалия']},\n",
    "    {'visit5': ['Париж', 'Франция']},\n",
    "    {'visit6': ['Лиссабон', 'Португалия']},\n",
    "    {'visit7': ['Тула', 'Россия']},\n",
    "    {'visit8': ['Тула', 'Россия']},\n",
    "    {'visit9': ['Курск', 'Россия']},\n",
    "    {'visit10': ['Архангельск', 'Россия']}\n",
    "]\n",
    "\n",
    "#for key in geo_logs:\n",
    "#    key = 'Москва'\n",
    "#print(key)\n",
    "\n",
    "#Создаем функцию, которая ищет по списку стран\n",
    "def search_list(value, country):\n",
    "#Создаём пустой список, в который будем добавлять все отобранные по критерию страны\n",
    "    country_list = []\n",
    "#    print(country_list)\n",
    "    for item in value:\n",
    "#Работа с данными как листом (есть более красивый способ?), с заданной глубиной просмотра по индексам 0 и 1\n",
    "#и матчингу по стране\n",
    "        if list(item.values())[0][1] == country:\n",
    "#Добавляю в созданный ранее пустой список все отобранные по условию данные\n",
    "            country_list.append(item)\n",
    "#    print(country_list)\n",
    "    return country_list\n",
    "    \n",
    "search = search_list(geo_logs, 'Россия')\n",
    "for i in search:\n",
    "    print(i)\n",
    "        \n",
    "#Нашел в книжке решение через фильтрацию, его корректно использовать для данной задачи?\n",
    "#country = 'Россия'\n",
    "#search = list(filter(lambda x: country in list(x.values())[0], geo_logs))\n",
    "#print(search)    "
   ]
  },
  {
   "cell_type": "markdown",
   "metadata": {},
   "source": [
    "**Задание 2**. Выведите на экран все уникальные гео-ID из значений словаря ids. Т. е. список вида [213, 15, 54, 119, 98, 35]"
   ]
  },
  {
   "cell_type": "code",
   "execution_count": 89,
   "metadata": {},
   "outputs": [
    {
     "name": "stdout",
     "output_type": "stream",
     "text": [
      "{98, 35, 15, 213, 54, 119}\n"
     ]
    }
   ],
   "source": [
    "ids = {'user1': [213, 213, 213, 15, 213], \n",
    "       'user2': [54, 54, 119, 119, 119], \n",
    "       'user3': [213, 98, 98, 35]}\n",
    "# Сделать общий cписок и в него добавить еще элементы, и добавить через append через перебор уникальные значения\n",
    "\n",
    "#list(ids)\n",
    "numbers = list()\n",
    "#print(number)\n",
    "for number in ids.values():\n",
    "    if type(number) == list:\n",
    "#проверка\n",
    "        numbers += number\n",
    "    else:\n",
    "#добавляем в список уникальное значение\n",
    "        numbers.append(number)\n",
    "print(set(numbers))"
   ]
  },
  {
   "cell_type": "markdown",
   "metadata": {},
   "source": [
    "**Задание 3**. Дан список поисковых запросов. Получить распределение количества слов в них. \n",
    "Т. е. поисковых запросов из одного - слова 5%, из двух - 7%, из трех - 3% и т.д."
   ]
  },
  {
   "cell_type": "code",
   "execution_count": 389,
   "metadata": {},
   "outputs": [
    {
     "name": "stdout",
     "output_type": "stream",
     "text": [
      "Поисковых запросов с количеством слов 1 встречается 1 раз(а)\n",
      "Доля таких запросов составляет 12.5 %\n",
      "Поисковых запросов с количеством слов 2 встречается 3 раз(а)\n",
      "Доля таких запросов составляет 37.5 %\n",
      "Поисковых запросов с количеством слов 3 встречается 4 раз(а)\n",
      "Доля таких запросов составляет 50.0 %\n"
     ]
    }
   ],
   "source": [
    "queries = [\n",
    "    'смотреть сериалы онлайн',\n",
    "    'новости спорта',\n",
    "    'афиша кино',\n",
    "    'курс доллара',\n",
    "    'сериалы этим летом',\n",
    "    'курс по питону',\n",
    "    'сериалы про спорт',\n",
    "    'privet',\n",
    "]\n",
    "\n",
    "num_words = [len(word.split()) for word in queries]\n",
    "total_words = sum(num_words)\n",
    "sum_words = len(queries)\n",
    "#print(num_words)\n",
    "#print(total_words)\n",
    "#print(sum_words)\n",
    "\n",
    "clear_numbers = (list(set(num_words)))\n",
    "#print(clear_numbers)\n",
    "\n",
    "#Подсчёт количества повторений элементов в ранее сформированном списке\n",
    "def count(num_words, calc_dict):\n",
    "    for i in num_words:\n",
    "        if i in calc_dict:\n",
    "            calc_dict[i] += 1\n",
    "        else:\n",
    "            calc_dict[i] = 1\n",
    "#Создаю новый словарь для накопления результатов\n",
    "new_dict = {}\n",
    "\n",
    "#Вызов функции подсчёта написанной ранее\n",
    "count(num_words, new_dict)\n",
    "\n",
    "for item in sorted(new_dict):\n",
    "    print('Поисковых запросов с количеством слов %d встречается %d раз(а)' % (item, new_dict[item]))\n",
    "    print('Доля таких запросов составляет',round((new_dict[item]/sum_words) * 100, 2),'%')\n",
    "\n",
    "#def del_duplicates(num_words):\n",
    "#    new_list = []\n",
    "#    for i in num_words:\n",
    "#        if i not in new_list:\n",
    "#            new_list.append(i)\n",
    "#    return new_list\n",
    "\n",
    "#Альтернативный метод подсчёта количества слов\n",
    "#for i , word in enumerate(queries):\n",
    "#    print (len(word.split()))\n",
    "\n",
    "#a = queries[0]\n",
    "#b = len(a)\n",
    "#c = a.split()\n",
    "#d = len(c)\n",
    "#print(a)\n",
    "#print(b)\n",
    "#print(c)\n",
    "#print(d)       \n",
    "\n",
    "#for i in enumerate(queries):\n",
    "#    print(i)\n",
    "#    count = len(i[1])\n",
    "#    print(count)"
   ]
  },
  {
   "cell_type": "markdown",
   "metadata": {},
   "source": [
    "**Задание 4**. Дана статистика рекламных каналов по объемам продаж. Напишите скрипт, который возвращает название канала с максимальным объемом.\n",
    "Т. е. в данном примере скрипт должен возвращать 'yandex'."
   ]
  },
  {
   "cell_type": "code",
   "execution_count": 91,
   "metadata": {},
   "outputs": [
    {
     "name": "stdout",
     "output_type": "stream",
     "text": [
      "yandex\n"
     ]
    }
   ],
   "source": [
    "stats = {'facebook': 55, 'yandex': 120, 'vk': 115, 'google': 99, 'email': 42, 'ok': 98}\n",
    "\n",
    "#Заметка для себя, поиск по максимальному индексу (буква, цифра) в ключе словаря\n",
    "#rint(max(stats))\n",
    "#print(max(stats, key=lambda x: x[0]))\n",
    "\n",
    "#Заметка для себя, поиск максимального значения в словаре в одну строку\n",
    "#search = max(stats.values())\n",
    "#print(search)\n",
    "\n",
    "#Создаю переменную, в которую вношу параметры ключа и значения и привожу всё к items внутри словаря\n",
    "search = [(key, value) for value, key in stats.items()]\n",
    "#Поиск максимального значения с переводом на ключ по условия максимального значения\n",
    "maximum = max(search)[1]\n",
    "print(maximum)"
   ]
  },
  {
   "cell_type": "markdown",
   "metadata": {},
   "source": [
    "**Задание 5**. Напишите код для преобразования произвольного списка вида ['2018-01-01', 'yandex', 'cpc', 100] (он может быть любой длины) в словарь {'2018-01-01': {'yandex': {'cpc': 100}}}"
   ]
  },
  {
   "cell_type": "code",
   "execution_count": 472,
   "metadata": {},
   "outputs": [
    {
     "name": "stdout",
     "output_type": "stream",
     "text": [
      "{'2018-01-01': {'yandex': {'cpc': 100}}}\n"
     ]
    }
   ],
   "source": [
    "random_list = ['2018-01-01', 'yandex', 'cpc', 100]\n",
    "\n",
    "#dictionary = {}\n",
    "#def add_to_dict():\n",
    "#    list_items = []\n",
    "#    for item in value:\n",
    "#        print(item)\n",
    "#list_len = len(random_list)\n",
    "#dictionary = {i for i in random_list}\n",
    "#print(dictionary)\n",
    "\n",
    "#Выводит всё как ключ в словаре (нужно подумать как исключить последний элемент и вывести его как значение для предыдущего ключа)\n",
    "#dictionary = {}\n",
    "#new_dict = dictionary\n",
    "#for i in random_list:\n",
    "#    dictionary[i] = {}\n",
    "#    dictionary = dictionary[i]\n",
    "#print(new_dict)\n",
    "\n",
    "#Без рекурсии на основе предложенного решения от Андрея Коблякова\n",
    "#Создаю пустой словарь\n",
    "dictionary = {}\n",
    "#В моём решении не хватало триггера для переключения перебора, Андрей подсказал как можно через Flag реаизовать триггер\n",
    "flag = 0\n",
    "#Подсчёт количества элементов в листе\n",
    "list_len = len(random_list)\n",
    "#print(list_len)\n",
    "#Переворачиваю лист в обратном порядке, иначе основным ключом будет выводиться \"100\" вместо даты \"2018-01-01\", снова спасибо Андрею!\n",
    "random_list.reverse()\n",
    "for i in range (1, list_len):\n",
    "    if flag == 0:\n",
    "        dictionary[random_list[i]] = random_list[i-1]\n",
    "        flag = 1\n",
    "    else:\n",
    "        dictionary = {random_list[i]: dictionary}\n",
    "print(dictionary)\n",
    "\n",
    "#Мой вариант с рекурсией, не заработало :(\n",
    "#def dictionary(random_list):\n",
    "#    a = random_list[0]\n",
    "#    print(a)\n",
    "#    b = random_list[1]\n",
    "#    print(b)\n",
    "#Значение выбокри из листа \n",
    "#    c = random_list[1:3]\n",
    "#    print(c)\n",
    "#    list_len = len(random_list)\n",
    "#    print(list_len)\n",
    "#    upd_dict = {}\n",
    "#    if list_len >= 1:\n",
    "#        upd_dict[a] = b\n",
    "#        return(upd_dict)\n",
    "#    else:\n",
    "#        upd_dict[a] = upd_dict(c)\n",
    "#        return(upd_dict)\n",
    "#print(dictionary(random_list))\n",
    "\n",
    "\n",
    "#На основе рекурсии от Андрея Коблякова,\n",
    "#def dict_(random_list):\n",
    "#    dic_ = {}\n",
    "#    if len(random_list) == 2:\n",
    "#        dic_[random_list[0]] = random_list [1]\n",
    "#        return dic_\n",
    "#    else:\n",
    "#        dic_[random_list[0]] = dict_(random_list[1:])\n",
    "#        return(dic_)\n",
    "#dict_(random_list)\n",
    "\n",
    "#nested = dict.fromkeys(dictionary, 0)\n",
    "#print(nested)"
   ]
  }
 ],
 "metadata": {
  "kernelspec": {
   "display_name": "Python 3",
   "language": "python",
   "name": "python3"
  },
  "language_info": {
   "codemirror_mode": {
    "name": "ipython",
    "version": 3
   },
   "file_extension": ".py",
   "mimetype": "text/x-python",
   "name": "python",
   "nbconvert_exporter": "python",
   "pygments_lexer": "ipython3",
   "version": "3.7.6"
  }
 },
 "nbformat": 4,
 "nbformat_minor": 2
}
